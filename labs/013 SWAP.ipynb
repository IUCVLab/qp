{
 "cells": [
  {
   "cell_type": "code",
   "execution_count": null,
   "id": "4d60588c-4912-46d1-92a3-1ab99dbd4920",
   "metadata": {},
   "outputs": [],
   "source": [
    "from qiskit import QuantumCircuit, QuantumRegister, ClassicalRegister, BasicAer, execute, transpile\n",
    "from qiskit.transpiler import CouplingMap\n",
    "import networkx as nx\n",
    "\n",
    "coupling_map = [[0, 1], [1, 0], [1, 2], [2, 1], [2, 3], [3, 2]]\n",
    "g = nx.DiGraph()\n",
    "g.add_edges_from(coupling_map)\n",
    "nx.draw_networkx(g)"
   ]
  },
  {
   "cell_type": "code",
   "execution_count": null,
   "id": "2a5c97ee-6428-4a29-86a1-3927e628ab3b",
   "metadata": {},
   "outputs": [],
   "source": [
    "# TODO: instantiate a statevector simulator\n",
    "svsim = ..."
   ]
  },
  {
   "cell_type": "code",
   "execution_count": null,
   "id": "ab759895-768f-410d-9b7d-09236bde30e0",
   "metadata": {},
   "outputs": [],
   "source": [
    "qreg = QuantumRegister(2, name=\"q\")\n",
    "circuit = QuantumCircuit(qreg)\n",
    "circuit.h(0)\n",
    "# TODO: print a state vector using execute() call\n",
    "print( execute( ... ).result().get_statevector() )\n",
    "circuit.swap(0, 1)\n",
    "# TODO: print a state vector using execute() call\n",
    "print( execute( ... ).result().get_statevector() )\n",
    "circuit.draw('mpl')"
   ]
  },
  {
   "cell_type": "code",
   "execution_count": null,
   "id": "e7ab3164-f0e3-4ad9-9d8f-efe52c1ee423",
   "metadata": {},
   "outputs": [],
   "source": [
    "transpile(circuit, svsim, coupling_map=coupling_map).draw('mpl')"
   ]
  },
  {
   "cell_type": "code",
   "execution_count": null,
   "id": "008d396a-e44c-47e2-8f16-c98e771c6930",
   "metadata": {},
   "outputs": [],
   "source": [
    "c = transpile(\n",
    "    circuit, \n",
    "    svsim, \n",
    "    coupling_map=coupling_map,\n",
    "    initial_layout={qreg[0]: 0, qreg[1]: 3}\n",
    ")\n",
    "c.draw('mpl')"
   ]
  },
  {
   "cell_type": "code",
   "execution_count": null,
   "id": "a0f20a97-8c1f-4ed5-8bfd-0129dc747372",
   "metadata": {},
   "outputs": [],
   "source": [
    "from qiskit import IBMQ\n",
    "IBMQ.load_account()\n",
    "provider = IBMQ.get_provider('ibm-q')\n",
    "backend = provider.get_backend(\"ibm_lagos\")"
   ]
  },
  {
   "cell_type": "code",
   "execution_count": null,
   "id": "45ccc315-a563-439b-8135-547f03d8a913",
   "metadata": {},
   "outputs": [],
   "source": [
    "real_cmap = backend.configuration().coupling_map\n",
    "transpile(\n",
    "    circuit, \n",
    "    svsim, \n",
    "    coupling_map=real_cmap, \n",
    "    initial_layout={qreg[0]: 0, qreg[1]: 6}\n",
    ").draw('mpl')"
   ]
  }
 ],
 "metadata": {
  "kernelspec": {
   "display_name": "Python 3 (ipykernel)",
   "language": "python",
   "name": "python3"
  },
  "language_info": {
   "codemirror_mode": {
    "name": "ipython",
    "version": 3
   },
   "file_extension": ".py",
   "mimetype": "text/x-python",
   "name": "python",
   "nbconvert_exporter": "python",
   "pygments_lexer": "ipython3",
   "version": "3.9.13"
  }
 },
 "nbformat": 4,
 "nbformat_minor": 5
}
