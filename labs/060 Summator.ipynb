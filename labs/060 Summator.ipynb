{
 "cells": [
  {
   "cell_type": "markdown",
   "id": "22c81d8b-ba11-489d-890c-bcd29b82054a",
   "metadata": {},
   "source": [
    "# Let's add a+=b\n",
    "\n",
    "To add numbers in different registers we control increments for all $2^k$.\n",
    "\n",
    "This is a toy example of 2+1 in 2-qubit registers."
   ]
  },
  {
   "cell_type": "code",
   "execution_count": 5,
   "id": "09e1054a-f9b6-4196-a26b-b495381dcf87",
   "metadata": {},
   "outputs": [],
   "source": [
    "from qiskit import QuantumRegister, ClassicalRegister, QuantumCircuit\n",
    "from qiskit.visualization import plot_histogram\n",
    "from qiskit import execute, Aer\n",
    "import matplotlib.pyplot as plt\n",
    "\n",
    "from qiskit.circuit.library import XGate\n",
    "cccx = XGate().control(3)\n",
    "ccccx = XGate().control(4)"
   ]
  },
  {
   "cell_type": "code",
   "execution_count": 2,
   "id": "ad24dd35-6f3c-4c2d-81a5-8707d84084cb",
   "metadata": {},
   "outputs": [
    {
     "data": {
      "text/html": [
       "<pre style=\"word-wrap: normal;white-space: pre;background: #fff0;line-height: 1.1;font-family: &quot;Courier New&quot;,Courier,monospace\">       ┌───┐ ░           ┌───┐ ░            ░ ┌─┐      \n",
       "  a_0: ┤ X ├─░───■────■──┤ X ├─░────────────░─┤M├──────\n",
       "       └───┘ ░   │  ┌─┴─┐└─┬─┘ ░      ┌───┐ ░ └╥┘┌─┐   \n",
       "  a_1: ──────░───■──┤ X ├──┼───░───■──┤ X ├─░──╫─┤M├───\n",
       "             ░ ┌─┴─┐└─┬─┘  │   ░ ┌─┴─┐└─┬─┘ ░  ║ └╥┘┌─┐\n",
       "  a_2: ──────░─┤ X ├──┼────┼───░─┤ X ├──┼───░──╫──╫─┤M├\n",
       "       ┌───┐ ░ └─┬─┘  │    │   ░ └─┬─┘  │   ░  ║  ║ └╥┘\n",
       "  b_0: ┤ X ├─░───■────■────■───░───┼────┼───░──╫──╫──╫─\n",
       "       ├───┤ ░                 ░   │    │   ░  ║  ║  ║ \n",
       "  b_1: ┤ X ├─░─────────────────░───■────■───░──╫──╫──╫─\n",
       "       └───┘ ░                 ░            ░  ║  ║  ║ \n",
       "res: 3/════════════════════════════════════════╩══╩══╩═\n",
       "                                               0  1  2 </pre>"
      ],
      "text/plain": [
       "       ┌───┐ ░           ┌───┐ ░            ░ ┌─┐      \n",
       "  a_0: ┤ X ├─░───■────■──┤ X ├─░────────────░─┤M├──────\n",
       "       └───┘ ░   │  ┌─┴─┐└─┬─┘ ░      ┌───┐ ░ └╥┘┌─┐   \n",
       "  a_1: ──────░───■──┤ X ├──┼───░───■──┤ X ├─░──╫─┤M├───\n",
       "             ░ ┌─┴─┐└─┬─┘  │   ░ ┌─┴─┐└─┬─┘ ░  ║ └╥┘┌─┐\n",
       "  a_2: ──────░─┤ X ├──┼────┼───░─┤ X ├──┼───░──╫──╫─┤M├\n",
       "       ┌───┐ ░ └─┬─┘  │    │   ░ └─┬─┘  │   ░  ║  ║ └╥┘\n",
       "  b_0: ┤ X ├─░───■────■────■───░───┼────┼───░──╫──╫──╫─\n",
       "       ├───┤ ░                 ░   │    │   ░  ║  ║  ║ \n",
       "  b_1: ┤ X ├─░─────────────────░───■────■───░──╫──╫──╫─\n",
       "       └───┘ ░                 ░            ░  ║  ║  ║ \n",
       "res: 3/════════════════════════════════════════╩══╩══╩═\n",
       "                                               0  1  2 "
      ]
     },
     "metadata": {},
     "output_type": "display_data"
    }
   ],
   "source": [
    "a = QuantumRegister(3, \"a\")\n",
    "b = QuantumRegister(2, \"b\")\n",
    "cr = ClassicalRegister(3, \"res\")\n",
    "qc = QuantumCircuit(a, b, cr)\n",
    "\n",
    "# a = 1, b = 3\n",
    "qc.x(a[0])\n",
    "qc.x(b)\n",
    "qc.barrier()\n",
    "\n",
    "# a += 1 controlled by b[0]\n",
    "qc.append(cccx, [a[0], a[1], b[0], a[2]])\n",
    "qc.ccx(a[0], b[0], a[1])\n",
    "qc.cx(b[0], a[0])\n",
    "\n",
    "qc.barrier()\n",
    "# a += 2 controlled by b[1]\n",
    "qc.ccx(a[1], b[1], a[2])\n",
    "qc.cx(b[1], a[1])\n",
    "\n",
    "\n",
    "qc.barrier()\n",
    "\n",
    "qc.measure(a, cr)\n",
    "display(qc.draw())"
   ]
  },
  {
   "cell_type": "code",
   "execution_count": 3,
   "id": "e847f842-e061-4d5d-a4c4-983ffe06913c",
   "metadata": {},
   "outputs": [
    {
     "data": {
      "image/png": "[encoded data removed]",
      "text/plain": [
       "<Figure size 504x360 with 1 Axes>"
      ]
     },
     "metadata": {
      "needs_background": "light"
     },
     "output_type": "display_data"
    }
   ],
   "source": [
    "job = execute(qc, Aer.get_backend('qasm_simulator'), shots=1000)\n",
    "counts = job.result().get_counts(qc)\n",
    "plot_histogram(counts)\n",
    "plt.show()"
   ]
  },
  {
   "cell_type": "markdown",
   "id": "e8d32035-288c-41ad-9197-9b0120c1722d",
   "metadata": {},
   "source": [
    "## Now you go\n",
    "\n",
    "Implement $(|7\\rangle+|12\\rangle) += (|1\\rangle + |3\\rangle)$ in 2 4-qubit registers."
   ]
  },
  {
   "cell_type": "code",
   "execution_count": null,
   "id": "4f5472fa-f207-4e44-8dcc-a364f86fafb8",
   "metadata": {},
   "outputs": [],
   "source": [
    "a = QuantumRegister(4, \"a\")\n",
    "b = QuantumRegister(4, \"b\")\n",
    "cr = ClassicalRegister(4, \"res\")\n",
    "qc = QuantumCircuit(a, b, cr)\n",
    "\n",
    "############### a = 7 + 12 ########################\n",
    "# |0111> + |1100> = (XII)GHZ\n",
    "\n",
    "\n",
    "qc.barrier()\n",
    "############### b = 1 + 3  ########################\n",
    "# |0001> + |0011> =\n",
    "\n",
    "\n",
    "qc.barrier()\n",
    "############## a += b #############################\n",
    "\n",
    "# a += 1 controlled by b[0]\n",
    "\n",
    "\n",
    "# a += 2 controlled by b[1]\n",
    "\n",
    "\n",
    "# a += 4 controlled by b[2]\n",
    "\n",
    "\n",
    "# a += 8 controlled by b[3]\n",
    "\n",
    "qc.barrier()\n",
    "qc.measure(a, cr)\n",
    "display(qc.draw())"
   ]
  },
  {
   "cell_type": "code",
   "execution_count": 44,
   "id": "5c049233-4e51-4263-bc1f-cc44ad0ba07a",
   "metadata": {},
   "outputs": [
    {
     "data": {
      "image/png": "[encoded data removed]",
      "text/plain": [
       "<Figure size 504x360 with 1 Axes>"
      ]
     },
     "metadata": {
      "needs_background": "light"
     },
     "output_type": "display_data"
    }
   ],
   "source": [
    "job = execute(qc, Aer.get_backend('qasm_simulator'), shots=1000)\n",
    "counts = job.result().get_counts(qc)\n",
    "plot_histogram(counts)\n",
    "plt.show()"
   ]
  }
 ],
 "metadata": {
  "kernelspec": {
   "display_name": "Python 3 (ipykernel)",
   "language": "python",
   "name": "python3"
  },
  "language_info": {
   "codemirror_mode": {
    "name": "ipython",
    "version": 3
   },
   "file_extension": ".py",
   "mimetype": "text/x-python",
   "name": "python",
   "nbconvert_exporter": "python",
   "pygments_lexer": "ipython3",
   "version": "3.9.13"
  }
 },
 "nbformat": 4,
 "nbformat_minor": 5
}
