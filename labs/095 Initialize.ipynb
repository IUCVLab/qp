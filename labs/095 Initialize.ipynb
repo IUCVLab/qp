{
 "cells": [
  {
   "cell_type": "code",
   "execution_count": null,
   "id": "ae2aaa24-5ba3-45f0-92c8-186060a368f5",
   "metadata": {},
   "outputs": [],
   "source": [
    "from qiskit import QuantumCircuit, execute, transpile, BasicAer\n",
    "import numpy as np\n",
    "\n",
    "a = np.array([0, 1, 2, 3, 4, 5, 6, 7, 0, 1, 2, 3, 4, 5, 6, 7])\n",
    "backend = BasicAer.get_backend(\"qasm_simulator\")\n",
    "\n",
    "####### WHAT DO WE DO TO FIT THIS VECTOR? #########\n",
    "\n",
    "...\n",
    "\n",
    "###################################################\n",
    "\n",
    "qc = QuantumCircuit(4)\n",
    "qc.initialize(a, range(4))"
   ]
  },
  {
   "cell_type": "code",
   "execution_count": null,
   "id": "d0463c55-a024-47a7-b8bc-ba1b0b60a30c",
   "metadata": {},
   "outputs": [],
   "source": [
    "# let us vary optimisation level\n",
    "\n",
    "qct = transpile(qc, \n",
    "          backend, \n",
    "          optimization_level=1, \n",
    "          basis_gates=[\"cx\", \"rx\", \"rz\", \"ry\"])\n",
    "print(qct.count_ops())\n",
    "print(qct.depth())\n",
    "qct.draw('mpl', scale=.7)"
   ]
  }
 ],
 "metadata": {
  "kernelspec": {
   "display_name": "Python 3 (ipykernel)",
   "language": "python",
   "name": "python3"
  },
  "language_info": {
   "codemirror_mode": {
    "name": "ipython",
    "version": 3
   },
   "file_extension": ".py",
   "mimetype": "text/x-python",
   "name": "python",
   "nbconvert_exporter": "python",
   "pygments_lexer": "ipython3",
   "version": "3.9.13"
  }
 },
 "nbformat": 4,
 "nbformat_minor": 5
}
