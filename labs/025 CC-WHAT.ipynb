{
 "cells": [
  {
   "cell_type": "markdown",
   "id": "2956ea7f-5866-42d9-bbb6-9a9a55238686",
   "metadata": {},
   "source": [
    "# How to create a CC-U gate given CNOT and unary gates\n",
    "\n",
    "We look for such $V$, that $V^2=U$. How?\n",
    "\n",
    "For rotations this is easy: $Rot(2\\alpha)=Rot^2(\\alpha)$.\n",
    "\n",
    "For reflections this can be a problem. Still, we have [Matrix square root](https://en.wikipedia.org/wiki/Square_root_of_a_matrix).\n",
    "\n",
    "### How to?\n",
    "\n",
    "Note, that if we apply $V$, and then we can branch into $V$ again, or $V^\\dagger$. First path will bring us to $U$, whereas the second will cancel the operation, as $V^\\dagger = V^{-1}$. So, using this idea we can build a $CCU$!\n",
    "\n",
    "![](https://qiskit.org/textbook/ch-gates/images/iden2.png) [pic](https://qiskit.org/textbook/ch-gates/more-circuit-identities.html)\n",
    "\n",
    "### Go ahead and practice!\n",
    "\n",
    "Implement CCZ.\n",
    "\n",
    "$CCZ$ matrix is:"
   ]
  },
  {
   "cell_type": "code",
   "execution_count": null,
   "id": "ef49f679-6661-4b69-b7b9-563210e3f9b0",
   "metadata": {},
   "outputs": [],
   "source": [
    "import numpy as np\n",
    "CCZ = np.eye(8)\n",
    "CCZ[-1, -1] = -1\n",
    "print(CCZ)"
   ]
  },
  {
   "cell_type": "markdown",
   "id": "4d062c55-de96-46a1-933f-2ebfcc295ae2",
   "metadata": {},
   "source": [
    "What we know, is that $S=\\sqrt{Z}$.\n",
    "\n",
    "$S=\\begin{pmatrix}1 & 0 \\\\ 0 & e^{\\frac{i\\pi}{2}}\\end{pmatrix}=\\begin{pmatrix}1 & 0 \\\\ 0 & i\\end{pmatrix}$\n",
    "\n",
    "What we also know according to [Barenco et al.](https://arxiv.org/pdf/quant-ph/9503016.pdf) is that _\"For any unitary 2×2 matrix U, a CC-U gate can be simulated by at most 16 basic gates: eight 1-bit gates and eight CNOT gates\"_."
   ]
  },
  {
   "cell_type": "code",
   "execution_count": null,
   "id": "9c410d7b-d921-4ad0-a658-a2bd2dd5a029",
   "metadata": {},
   "outputs": [],
   "source": [
    "from qiskit import QuantumRegister, ClassicalRegister, QuantumCircuit, execute, BasicAer\n",
    "from qiskit.visualization import plot_histogram\n",
    "\n",
    "qr = QuantumRegister(3, 'qubits')\n",
    "qc = QuantumCircuit(qr, name=\"CCZ\")\n",
    "\n",
    "\n",
    "from qiskit.circuit.library.standard_gates import SGate\n",
    "\n",
    "# this is a construction of random controlled gate\n",
    "CS = SGate().control(1)\n",
    "\n",
    "# this is how we can inverse\n",
    "CSdg = SGate().inverse().control(1)\n",
    "\n",
    "qc.append(CS, [qr[1], qr[2]])\n",
    "# TODO COMPLETE THE CIRCUIT!!!!\n",
    "\n",
    "\n",
    "display(qc.draw(output='mpl'))\n",
    "\n",
    "print(qc.qasm())\n",
    "print(qc.decompose().qasm())"
   ]
  },
  {
   "cell_type": "markdown",
   "id": "a48d843f-218c-4c4f-87b4-8940af46108b",
   "metadata": {},
   "source": [
    "Run this, apply to a specific state:"
   ]
  },
  {
   "cell_type": "code",
   "execution_count": null,
   "id": "78458f0d-adb9-4ccb-9abd-ba097727f473",
   "metadata": {},
   "outputs": [],
   "source": [
    "demo_c = QuantumCircuit(3)\n",
    "\n",
    "# prepare |110>\n",
    "demo_c.x([0, 1])\n",
    "\n",
    "# prepare |11+>\n",
    "demo_c.h(2)\n",
    "\n",
    "demo_c.append(qc, [0, 1, 2])\n",
    "\n",
    "demo_c.h(2)\n",
    "\n",
    "# appends measurement even if \n",
    "# a classic register not specifier\n",
    "demo_c.measure_all()\n",
    "\n",
    "job = execute(demo_c, BasicAer.get_backend(\"qasm_simulator\"))\n",
    "\n",
    "plot_histogram(job.result().get_counts())"
   ]
  },
  {
   "cell_type": "markdown",
   "id": "aaa627e2-321f-489f-ac7b-9089f49e5f9c",
   "metadata": {},
   "source": [
    "# Todo together\n",
    "1. Decompose this circuit up to elementary gates. How many CNOTs are there?\n",
    "2. Build and decompose CCX, also known as Toffoli gate.\n",
    "3. Discuss if there are formulas to derive CX count for $C^NX$ and $C^NU$ gates."
   ]
  },
  {
   "cell_type": "code",
   "execution_count": null,
   "id": "22c2ded5-8321-4f0e-84f7-826487db21c4",
   "metadata": {},
   "outputs": [],
   "source": [
    "# code here"
   ]
  }
 ],
 "metadata": {
  "kernelspec": {
   "display_name": "Python 3 (ipykernel)",
   "language": "python",
   "name": "python3"
  },
  "language_info": {
   "codemirror_mode": {
    "name": "ipython",
    "version": 3
   },
   "file_extension": ".py",
   "mimetype": "text/x-python",
   "name": "python",
   "nbconvert_exporter": "python",
   "pygments_lexer": "ipython3",
   "version": "3.9.13"
  }
 },
 "nbformat": 4,
 "nbformat_minor": 5
}
