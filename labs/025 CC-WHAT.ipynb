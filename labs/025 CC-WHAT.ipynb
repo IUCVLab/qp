{
 "cells": [
  {
   "cell_type": "markdown",
   "id": "2956ea7f-5866-42d9-bbb6-9a9a55238686",
   "metadata": {},
   "source": [
    "# How to create a CC-U gate given CNOT and unary gates\n",
    "\n",
    "We look for such $V$, that $V^2=U$. How?\n",
    "\n",
    "For rotations this is easy: $Rot(2\\alpha)=Rot^2(\\alpha)$.\n",
    "\n",
    "For reflections this can be a problem. Still, we have [Matrix square root](https://en.wikipedia.org/wiki/Square_root_of_a_matrix).\n",
    "\n",
    "### How to?\n",
    "\n",
    "Note, that if we apply $V$, and then we can branch into $V$ again, or $V^\\dagger$. First path will bring us to $U$, whereas the second will cancel the operation, as $V^\\dagger = V^{-1}$. So, using this idea we can build a $CCU$!\n",
    "\n",
    "![](https://qiskit.org/textbook/ch-gates/images/iden2.png) [pic](https://qiskit.org/textbook/ch-gates/more-circuit-identities.html)\n",
    "\n",
    "### Go ahead and practice!\n",
    "\n",
    "Implement CCZ.\n",
    "\n",
    "$CCZ$ matrix is:"
   ]
  },
  {
   "cell_type": "code",
   "execution_count": 2,
   "id": "ef49f679-6661-4b69-b7b9-563210e3f9b0",
   "metadata": {},
   "outputs": [
    {
     "name": "stdout",
     "output_type": "stream",
     "text": [
      "[[ 1.  0.  0.  0.  0.  0.  0.  0.]\n",
      " [ 0.  1.  0.  0.  0.  0.  0.  0.]\n",
      " [ 0.  0.  1.  0.  0.  0.  0.  0.]\n",
      " [ 0.  0.  0.  1.  0.  0.  0.  0.]\n",
      " [ 0.  0.  0.  0.  1.  0.  0.  0.]\n",
      " [ 0.  0.  0.  0.  0.  1.  0.  0.]\n",
      " [ 0.  0.  0.  0.  0.  0.  1.  0.]\n",
      " [ 0.  0.  0.  0.  0.  0.  0. -1.]]\n"
     ]
    }
   ],
   "source": [
    "import numpy as np\n",
    "CCZ = np.eye(8)\n",
    "CCZ[-1, -1] = -1\n",
    "print(CCZ)"
   ]
  },
  {
   "cell_type": "markdown",
   "id": "4d062c55-de96-46a1-933f-2ebfcc295ae2",
   "metadata": {},
   "source": [
    "What we know, is that $S=\\sqrt{Z}$.\n",
    "\n",
    "$S=\\begin{pmatrix}1 & 0 \\\\ 0 & e^{\\frac{i\\pi}{2}}\\end{pmatrix}=\\begin{pmatrix}1 & 0 \\\\ 0 & i\\end{pmatrix}$\n",
    "\n",
    "What we also know according to [Barenco et al.](https://arxiv.org/pdf/quant-ph/9503016.pdf) is that _\"For any unitary 2×2 matrix U, a CC-U gate can be simulated by at most 16 basic gates: eight 1-bit gates and eight CNOT gates\"_."
   ]
  },
  {
   "cell_type": "code",
   "execution_count": null,
   "id": "9c410d7b-d921-4ad0-a658-a2bd2dd5a029",
   "metadata": {},
   "outputs": [],
   "source": [
    "from qiskit import QuantumRegister, ClassicalRegister, QuantumCircuit, execute, Aer\n",
    "import matplotlib.pyplot as plt\n",
    "\n",
    "qr = QuantumRegister(3, 'qbits')\n",
    "cr = ClassicalRegister(3, 'bits')\n",
    "qc = QuantumCircuit(qr, cr)\n",
    "\n",
    "\n",
    "from qiskit.circuit.library.standard_gates import SGate\n",
    "\n",
    "# this is a construction of random controlled gate\n",
    "CS = SGate().control(1)\n",
    "\n",
    "# this is how we can inverse\n",
    "CSI = SGate().inverse().control(1)\n",
    "\n",
    "qc.append(CS, [qr[1], qr[2]])\n",
    "# TODO COMPLETE THE CIRCUIT!!!!\n",
    "\n",
    "\n",
    "qc.measure(qr, cr)\n",
    "qc.draw(output='mpl')\n",
    "plt.show()\n",
    "\n",
    "print(qc.qasm())"
   ]
  },
  {
   "cell_type": "markdown",
   "id": "a48d843f-218c-4c4f-87b4-8940af46108b",
   "metadata": {},
   "source": [
    "Run this on QPU:"
   ]
  },
  {
   "cell_type": "code",
   "execution_count": null,
   "id": "78458f0d-adb9-4ccb-9abd-ba097727f473",
   "metadata": {},
   "outputs": [],
   "source": [
    "from qiskit import IBMQ\n",
    "IBMQ.load_account()\n",
    "provider = IBMQ.get_provider('ibm-q')\n",
    "\n",
    "available_cloud_backends = provider.backends()\n",
    "\n",
    "queue = []\n",
    "for backend in available_cloud_backends:\n",
    "    status = backend.status()\n",
    "    is_operational = status.operational\n",
    "    jobs_in_queue = status.pending_jobs\n",
    "    if not is_operational: \n",
    "        continue\n",
    "    if 'simulator' in backend.name():\n",
    "        continue\n",
    "    # print(f\"{backend} with {backend.configuration().n_qubits} qubits is online with a queue={jobs_in_queue}\")\n",
    "    queue.append((backend.configuration().n_qubits, -jobs_in_queue, backend.name()))\n",
    "\n",
    "queue.sort()\n",
    "qpu = provider.get_backend(queue[-1][-1])\n",
    "job = execute(qc, backend=qpu)\n",
    "from qiskit.tools.monitor import job_monitor\n",
    "job_monitor(job)\n",
    "\n",
    "print(job.result())"
   ]
  },
  {
   "cell_type": "code",
   "execution_count": 24,
   "id": "d2ae2d1e-6d6f-4492-8813-9508d682f67b",
   "metadata": {},
   "outputs": [
    {
     "data": {
      "text/plain": [
       "'job incurred error'"
      ]
     },
     "execution_count": 24,
     "metadata": {},
     "output_type": "execute_result"
    }
   ],
   "source": [
    "dir(job)\n",
    "job.status().value"
   ]
  }
 ],
 "metadata": {
  "kernelspec": {
   "display_name": "qiskit",
   "language": "python",
   "name": "qiskit"
  },
  "language_info": {
   "codemirror_mode": {
    "name": "ipython",
    "version": 3
   },
   "file_extension": ".py",
   "mimetype": "text/x-python",
   "name": "python",
   "nbconvert_exporter": "python",
   "pygments_lexer": "ipython3",
   "version": "3.10.4"
  }
 },
 "nbformat": 4,
 "nbformat_minor": 5
}
