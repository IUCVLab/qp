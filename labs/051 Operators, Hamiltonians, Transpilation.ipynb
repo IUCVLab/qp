{
 "cells": [
  {
   "cell_type": "markdown",
   "id": "ec437395-43f7-4c03-ac8a-17490a361920",
   "metadata": {},
   "source": [
    "# Operator class - small step aside\n",
    "\n",
    "[source](https://qiskit.org/documentation/tutorials/circuits_advanced/02_operators_overview.html).\n",
    "\n",
    "The Operator class is used in Qiskit to represent matrix operators acting on a quantum system. It has several methods to build composite operators using tensor products of smaller operators, and to compose operators.\n",
    "\n",
    "Operators can be non-square."
   ]
  },
  {
   "cell_type": "code",
   "execution_count": null,
   "id": "cea1d5de-fc1e-495a-be13-8b44291b0da5",
   "metadata": {},
   "outputs": [],
   "source": [
    "from qiskit.quantum_info.operators import Operator, Pauli\n",
    "from qiskit.extensions import RXGate, XGate, CXGate\n",
    "\n",
    "XX = Operator([[0, 0, 0, 1], [0, 0, 1, 0], [0, 1, 0, 0], [1, 0, 0, 0]])\n",
    "print(XX.dim)\n",
    "print(XX.data)\n",
    "\n",
    "print('Input dimensions:', XX.input_dims())\n",
    "print('Output dimensions:', XX.output_dims())"
   ]
  },
  {
   "cell_type": "code",
   "execution_count": null,
   "id": "90e74aef-947d-4caa-8fe2-06935e00e493",
   "metadata": {},
   "outputs": [],
   "source": [
    "print(Operator(Pauli('ZY')))\n",
    "print()\n",
    "\n",
    "qc = QuantumCircuit(2)\n",
    "qc.z(1)\n",
    "qc.y(0)\n",
    "print(Operator(qc))\n",
    "print()\n",
    "\n",
    "print(Operator(CXGate()))"
   ]
  },
  {
   "cell_type": "code",
   "execution_count": null,
   "id": "f50f3c2c-8aa1-423a-b692-b58795ed90a3",
   "metadata": {},
   "outputs": [],
   "source": [
    "assert Operator(CXGate()).is_unitary()\n",
    "assert Operator([[0, 1], [1, 1]]).is_unitary()"
   ]
  },
  {
   "cell_type": "code",
   "execution_count": null,
   "id": "85ed8b89-9c99-448a-9a97-bb02190471a1",
   "metadata": {},
   "outputs": [],
   "source": [
    "import numpy as np\n",
    "\n",
    "# Create an operator\n",
    "XX = Operator(Pauli(label='XX'))\n",
    "\n",
    "# Add to a circuit\n",
    "circ = QuantumCircuit(2, 2)\n",
    "circ.append(XX, [0, 1])\n",
    "circ.cx(1, 0)\n",
    "circ.append(Operator([[1j, 0.], [0., -1j]]), [1])\n",
    "\n",
    "\n",
    "import scipy.linalg\n",
    "\n",
    "# some Hermitian\n",
    "H = np.array([[1, -1/3], [-1/3, 1]])\n",
    "\n",
    "# Get it's Unitary\n",
    "U = scipy.linalg.expm(1j * H)\n",
    "circ.append(Operator(U), [0])\n",
    "\n",
    "circ.measure([0,1], [0,1])\n",
    "circ.draw('mpl')"
   ]
  },
  {
   "cell_type": "markdown",
   "id": "861cad08-0a40-4235-808f-da502f3cc271",
   "metadata": {},
   "source": [
    "If Operator is Unitary, life is easier!"
   ]
  },
  {
   "cell_type": "code",
   "execution_count": null,
   "id": "05edd839-919f-409e-bb0d-d2230dde60b8",
   "metadata": {},
   "outputs": [],
   "source": [
    "from qiskit.compiler import transpile\n",
    "from qiskit import BasicAer\n",
    "\n",
    "backend = BasicAer.get_backend('qasm_simulator')\n",
    "circ = transpile(circ, backend, basis_gates=['u1','u2','u3','cx'])\n",
    "circ.draw()"
   ]
  },
  {
   "cell_type": "markdown",
   "id": "6acfdee3-5038-4520-9ca5-c816d4d7fe94",
   "metadata": {},
   "source": [
    "Tensoring, composition, and linear combination"
   ]
  },
  {
   "cell_type": "code",
   "execution_count": null,
   "id": "3a7130b6-baa6-42ec-9416-87e713571ffe",
   "metadata": {},
   "outputs": [],
   "source": [
    "A = Operator(Pauli('X'))\n",
    "B = Operator(Pauli('Z'))\n",
    "\n",
    "AB = A.expand(B)\n",
    "import numpy as np\n",
    "\n",
    "np.allclose(AB.data, Operator(Pauli('ZX')).data)\n",
    "\n",
    "print(A.compose(B))\n",
    "print()\n",
    "print(A + 3 * B)"
   ]
  },
  {
   "cell_type": "markdown",
   "id": "fbbc628e-b8f0-43cc-a719-b22c3fe5a79d",
   "metadata": {},
   "source": [
    "## TODO:\n",
    "\n",
    "For a given Hamiltonian find it's gate implementation in the gate basis `['cx', 'x', 'h', 'y', 'z', 'rx', 'ry', 'rz']`. Use `expm()` to get unitary, `transpile()` and `decompose()` to get gates.\n",
    "\n",
    "$H=\\begin{pmatrix}0 & i \\\\ -i & 1\\end{pmatrix}$."
   ]
  },
  {
   "cell_type": "code",
   "execution_count": null,
   "id": "54e95f70-345e-491a-b7d1-ca5ab00f9a41",
   "metadata": {},
   "outputs": [],
   "source": [
    "import numpy as np\n",
    "from scipy.linalg import expm\n",
    "from qiskit.compiler import transpile\n",
    "from qiskit import BasicAer\n",
    "\n",
    "backend = BasicAer.get_backend('qasm_simulator')\n",
    "\n",
    "H = np.array([[0, 1j], [-1j, 1]])\n",
    "######### YOUR CODE HERE ##############"
   ]
  },
  {
   "cell_type": "markdown",
   "id": "d5ee271e-700d-4fa0-aaf1-9d4d1f4a8d61",
   "metadata": {},
   "source": [
    "## Or... Hamiltonians to Unitaries!"
   ]
  },
  {
   "cell_type": "code",
   "execution_count": null,
   "id": "52202720-d463-43ef-b8bf-83f7db548b9e",
   "metadata": {},
   "outputs": [],
   "source": [
    "from qiskit.extensions import HamiltonianGate\n",
    "unitary = HamiltonianGate(H, time=0.3)\n",
    "circ = QuantumCircuit(1)\n",
    "circ.append(unitary, [0])\n",
    "circ.draw('mpl')"
   ]
  }
 ],
 "metadata": {
  "kernelspec": {
   "display_name": "Python 3 (ipykernel)",
   "language": "python",
   "name": "python3"
  },
  "language_info": {
   "codemirror_mode": {
    "name": "ipython",
    "version": 3
   },
   "file_extension": ".py",
   "mimetype": "text/x-python",
   "name": "python",
   "nbconvert_exporter": "python",
   "pygments_lexer": "ipython3",
   "version": "3.9.13"
  }
 },
 "nbformat": 4,
 "nbformat_minor": 5
}
