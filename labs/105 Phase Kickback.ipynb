{
 "cells": [
  {
   "cell_type": "markdown",
   "id": "1ba82127-4a20-4013-b2fe-a1a0fa55fff3",
   "metadata": {},
   "source": [
    "## Phase Kickback\n",
    "\n",
    "See details of motivation in [qiskit texbook](https://qiskit.org/textbook/ch-algorithms/grover.html). It shows the idea, how to convert \"Classical Function\" $f$ into a function of a desired type. The mechanism we have there is called *Phase Kickback*.\n",
    "\n",
    "Phase gate.\n",
    "\n",
    "$P_\\phi = \\begin{pmatrix} 1 & 0 \\\\ 0 & e^{i\\phi}\\end{pmatrix}$\n",
    "\n",
    "vs global phase:\n",
    "\n",
    "$GP_\\phi = \\begin{pmatrix} e^{i\\phi} & 0 \\\\ 0 & e^{i\\phi}\\end{pmatrix}$\n",
    "\n",
    "We already know, that a global phase may appear, when we apply a gate to an eigenstate:\n",
    "\n",
    "$U|\\psi_e\\rangle= GP_\\phi|\\psi_e\\rangle$.\n",
    "\n",
    "What is we apply $CU=I\\oplus U$ gate to $|\\psi_k\\rangle$ which is an eigenvector (eigenstate) of $U$?\n",
    "\n",
    "$I\\oplus U|+\\psi_e\\rangle= I\\oplus GP_\\phi|+\\psi_e\\rangle = P_\\phi\\otimes I|+\\psi_e\\rangle$\n",
    "\n",
    "where:\n",
    "\n",
    "$I\\oplus GP_\\phi = \\begin{pmatrix} 1 & 0 & 0 & 0 \\\\ 0 & 1 & 0 & 0 \\\\ 0 & 0 & e^{i\\phi} & 0 \\\\ 0 & 0 & 0 & e^{i\\phi}\\end{pmatrix}$\n",
    "\n",
    "**Kickback**: Controlling qubit (register) accepts the phase change of $U$ eigenvalue (eigenphase).\n",
    "\n",
    "What are eigenstates and eigenvalues of $X$?\n",
    "Use [documentation](https://numpy.org/doc/stable/reference/generated/numpy.linalg.eig.html) if needed."
   ]
  },
  {
   "cell_type": "code",
   "execution_count": 45,
   "id": "e730cf03-0ffc-4134-bb4e-056f421f1e69",
   "metadata": {},
   "outputs": [],
   "source": [
    "import numpy as np\n",
    "X = np.array([[0., 1], [1, 0]])\n",
    "\n",
    "## TODO compute eigenstates on X. How?"
   ]
  },
  {
   "cell_type": "markdown",
   "id": "cd9775c7-30ed-450a-9358-2b643befbe00",
   "metadata": {},
   "source": [
    "What does this mean?\n",
    "\n",
    "Substitute $e, v$.\n",
    "\n",
    "$X|e_1\\rangle = v_1|e_1\\rangle$\n",
    "\n",
    "$X|e_2\\rangle = v_2|e_2\\rangle$\n"
   ]
  },
  {
   "cell_type": "markdown",
   "id": "4cf5e081-815c-4793-b9e0-7ea0c1847d6f",
   "metadata": {},
   "source": [
    "Let's check phase kickback for $CNOT$."
   ]
  },
  {
   "cell_type": "code",
   "execution_count": null,
   "id": "c3ca5b6e-2235-40a9-89f0-afb845cf7699",
   "metadata": {},
   "outputs": [],
   "source": [
    "from qiskit import QuantumRegister, ClassicalRegister, QuantumCircuit, Aer, execute\n",
    "from qiskit.visualization import plot_histogram\n",
    "import matplotlib.pyplot as plt\n",
    "\n",
    "qr = QuantumRegister(2, \"q\")\n",
    "cr = ClassicalRegister(1, \"c\")\n",
    "qc = QuantumCircuit(qr, cr)\n",
    "\n",
    "# we keep a controlling qubit in |+> to observe phase change.\n",
    "# If phase does not change: control is:\n",
    "# |0> =H=> |+> =H=> |0>,\n",
    "# otherwise \n",
    "# |0> =H=> |+> =KB=> |-> =H=> |1>\n",
    "qc.h(qr[0])\n",
    "qc.barrier()\n",
    "\n",
    "# TODO here: prepare and eigenstate of X in qr[1]\n",
    "\n",
    "\n",
    "qc.barrier()\n",
    "\n",
    "# Controlled NOT\n",
    "qc.cx(0, 1)\n",
    "qc.barrier()\n",
    "\n",
    "\n",
    "# deciding whether control is in |+> or |->\n",
    "qc.h(qr[0])\n",
    "\n",
    "qc.measure(qr[0], cr[0])\n",
    "print(qc.draw())\n",
    "\n",
    "job = execute(qc, Aer.get_backend('qasm_simulator'), shots=100)\n",
    "counts = job.result().get_counts(qc)\n",
    "plot_histogram(counts)"
   ]
  },
  {
   "cell_type": "code",
   "execution_count": null,
   "id": "fee9b2a7-f113-45a3-8fab-6eb1c0379510",
   "metadata": {},
   "outputs": [],
   "source": [
    "from qiskit.circuit.library import RYGate\n",
    "from qiskit.quantum_info.operators import Operator\n",
    "from math import pi\n",
    "\n",
    "my_gate = RYGate(pi / 3)\n",
    "my_operator = Operator(my_gate)\n",
    "\n",
    "print(my_operator.to_matrix().real)\n",
    "\n",
    "print(\"eigenvalues:\", np.linalg.eig(my_operator)[0].round(3))\n",
    "print(\"eigenstate-0:\", np.linalg.eig(my_operator)[1][:, 0].round(3))\n",
    "print(\"eigenstate-1:\", np.linalg.eig(my_operator)[1][:, 1].round(3))"
   ]
  },
  {
   "cell_type": "code",
   "execution_count": null,
   "id": "bfd8c8f6-d867-42b5-84b6-f727f557146c",
   "metadata": {},
   "outputs": [],
   "source": [
    "qc = QuantumCircuit(2)\n",
    "qc.append(my_gate, [1])\n",
    "qc.append(my_gate.control(1), [0, 1])\n",
    "qc.draw()"
   ]
  },
  {
   "cell_type": "code",
   "execution_count": null,
   "id": "433f8b95-72fd-4189-af1d-8fd979aa89ef",
   "metadata": {},
   "outputs": [],
   "source": [
    "# TODO let us repeat the whole experiment for an arbitrary gate:"
   ]
  },
  {
   "cell_type": "code",
   "execution_count": null,
   "id": "4c8c4afd-1a6f-424d-a455-a01ae500432c",
   "metadata": {},
   "outputs": [],
   "source": []
  }
 ],
 "metadata": {
  "kernelspec": {
   "display_name": "Python 3 (ipykernel)",
   "language": "python",
   "name": "python3"
  },
  "language_info": {
   "codemirror_mode": {
    "name": "ipython",
    "version": 3
   },
   "file_extension": ".py",
   "mimetype": "text/x-python",
   "name": "python",
   "nbconvert_exporter": "python",
   "pygments_lexer": "ipython3",
   "version": "3.9.13"
  }
 },
 "nbformat": 4,
 "nbformat_minor": 5
}
