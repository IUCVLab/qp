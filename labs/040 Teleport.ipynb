{
 "cells": [
  {
   "cell_type": "markdown",
   "id": "b3e0e574-5ee0-41e6-81fb-abeca91d628c",
   "metadata": {},
   "source": [
    "Based on [qiskit lab](https://qiskit.org/textbook/ch-algorithms/teleportation.html) and [qbronze lab](https://gitlab.com/qworld/bronze-qiskit/-/blob/master/quantum-with-qiskit/Q76_Quantum_Teleportation.ipynb)."
   ]
  },
  {
   "cell_type": "markdown",
   "id": "6160a555-695d-45ed-8533-5b581c9c1487",
   "metadata": {},
   "source": [
    "## How it works?\n",
    "\n",
    "### What do we want\n",
    "\n",
    "$|\\psi\\rangle\\otimes|00\\rangle \\rightarrow |00\\psi\\rangle$\n",
    "\n",
    "### Idea of teleportation\n",
    "\n",
    "Having an entagled pair of qubits, shared between to participants, transer a state on arbitrary qubit to the state of reciever.\n",
    "\n",
    "$|\\psi\\rangle\\otimes|00\\rangle \\rightarrow |\\psi\\rangle\\otimes\\frac{1}{\\sqrt{2}}\\left(|00\\rangle+|11\\rangle\\right) \\rightarrow |00\\psi\\rangle$"
   ]
  },
  {
   "cell_type": "markdown",
   "id": "b514de48-42e6-480e-b552-d8ebaafa9776",
   "metadata": {},
   "source": [
    "### [offtopic] A simple and straightforward solution...\n",
    "\n",
    "... which might work. But no.\n",
    "\n",
    "$U|\\psi 0\\rangle = |0\\psi\\rangle$\n",
    "\n",
    "[a, b] x [1, 0]  = [a, 0, b, 0]\n",
    "[1, 0] x [a, b]  = [a, b, 0, 0]"
   ]
  },
  {
   "cell_type": "code",
   "execution_count": null,
   "id": "5a1d81f2-fcff-45c9-92e3-99ae6668e339",
   "metadata": {},
   "outputs": [],
   "source": [
    "from qiskit import transpile, QuantumCircuit, BasicAer\n",
    "import numpy as np\n",
    "\n",
    "# the matix should run like \n",
    "matrix = np.array([\n",
    "    [1., 0., 0., 0.],\n",
    "    [0., 0., 1., 0.],\n",
    "    [0., 1., 0., 0.],\n",
    "    [0., 0., 0., 1.],\n",
    "])\n",
    "# do we know this matrix?\n",
    "\n",
    "qc = QuantumCircuit(2)\n",
    "qc.ry(1.0, 0)\n",
    "qc.barrier()\n",
    "qc.unitary(matrix, [0, 1])\n",
    "\n",
    "transpile(qc, BasicAer.get_backend(\"statevector_simulator\")).decompose().decompose().draw('mpl')"
   ]
  },
  {
   "cell_type": "markdown",
   "id": "40229402-49bc-4cf2-a9f3-4d6b204565d8",
   "metadata": {},
   "source": [
    "_**Q**: What is wrong with this circuits? Can you describe a teleportation protocol for it?_"
   ]
  },
  {
   "cell_type": "markdown",
   "id": "05dcabd8-857d-4926-b4e9-254a5a6014cf",
   "metadata": {},
   "source": [
    "### Idea of a textbook implementation\n",
    "\n",
    "$(\\alpha|0\\rangle+\\beta|1\\rangle)\\otimes\\frac{1}{\\sqrt{2}}\\left(|00\\rangle+|11\\rangle\\right)$\n",
    "\n",
    "$\\frac{1}{\\sqrt{2}}(\\alpha|000\\rangle+\\beta|100\\rangle+\\alpha|011\\rangle+\\beta|111\\rangle)$\n",
    "\n",
    "$\\frac{1}{\\sqrt{2}}(\\alpha|00\\rangle\\otimes|0\\rangle+\\beta|10\\rangle\\otimes|0\\rangle+\\alpha|01\\rangle\\otimes|1\\rangle+\\beta|11\\rangle\\otimes|1\\rangle)$\n",
    "\n",
    "\n",
    "Measure the teleported (sender's) qubit and the entangled one in Bell's basis. If we observe the state in $|\\Phi^+\\rangle=\\frac{1}{\\sqrt{2}}(|00\\rangle + |11\\rangle)$. \n",
    "\n",
    "$\\langle\\Phi^+|\\times \\frac{1}{\\sqrt{2}}(\\alpha|00\\rangle\\otimes|0\\rangle+\\beta|10\\rangle\\otimes|0\\rangle+\\alpha|01\\rangle\\otimes|1\\rangle+\\beta|11\\rangle\\otimes|1\\rangle)$\n",
    "\n",
    "<p style=\"color:red\"><b>NB</b>: Note, that the formula below is \"kind of an a-priori distribution for $|\\psi\\rangle$\", as soon as we just selected the conditional observation. To get aposteriori state vector, we must divide resulting distribution by a probability of $|\\Phi^+\\rangle$ (which is $\\frac{1}{4}$), but as state vector encodes the amplitudes, we will see that the term $\\sqrt{\\frac{1}{4}} = \\frac{1}{2}$ will pop in the end.</p>\n",
    "\n",
    "\n",
    "$\\frac{1}{\\sqrt{2}}(\\alpha\\langle\\Phi^+|00\\rangle\\otimes|0\\rangle+\\beta\\langle\\Phi^+|10\\rangle\\otimes|0\\rangle+\\alpha\\langle\\Phi^+|01\\rangle\\otimes|1\\rangle+\\beta\\langle\\Phi^+|11\\rangle\\otimes|1\\rangle)$\n",
    "\n",
    "Middle terms are impossible to observe (there are no $|01\\rangle$ or $|10\\rangle$ components in $|\\Phi^+\\rangle$ state). Both other have equal probability and $\\langle\\Phi^+|00\\rangle=\\frac{1}{\\sqrt{2}}\\langle 00|00\\rangle+\\frac{1}{\\sqrt{2}}\\langle 11|00\\rangle=\\frac{1}{\\sqrt{2}}$\n",
    "\n",
    "$\\frac{1}{\\sqrt{2}} \\left(\\alpha\\frac{1}{\\sqrt{2}}|0\\rangle + \\beta\\frac{1}{\\sqrt{2}}|1\\rangle\\right)$\n",
    "\n",
    "But what if the observed state is $|\\Psi^-\\rangle$? We have $\\beta |0\\rangle - \\alpha |1\\rangle$ state. We will need to fix the phase with $Z$ (to fix minus to plus) and negate a qubit with $X$!"
   ]
  },
  {
   "cell_type": "markdown",
   "id": "86c11d47-0fad-42a1-9490-d34491b9e73f",
   "metadata": {},
   "source": [
    "### Implementation time!\n",
    "\n",
    "Learn what is [`c_if(classic, value)`](https://quantumcomputing.stackexchange.com/questions/9372/how-to-implement-if-statement-based-on-measurement-results-in-qiskit) condition and how to apply it."
   ]
  },
  {
   "cell_type": "code",
   "execution_count": null,
   "id": "0c0e02f8-3530-426e-af30-1a52800e623e",
   "metadata": {
    "tags": []
   },
   "outputs": [],
   "source": [
    "from qiskit import QuantumRegister, ClassicalRegister, QuantumCircuit, execute, BasicAer\n",
    "import matplotlib.pyplot as plt\n",
    "import qiskit\n",
    "# sv = qiskit.quantum_info.random_statevector(2)\n",
    "\n",
    "# quantum circuit with three qubits and two bits\n",
    "qr =  QuantumRegister(3, \"q\") \n",
    "cr = ClassicalRegister(2, \"c\") \n",
    "qc = QuantumCircuit(qr, cr)\n",
    "\n",
    "alice, media, bob = qr[::-1]\n",
    "\n",
    "# creating an entanglement between q[1] and q[0]\n",
    "print(\"Entangle\")\n",
    "qc.h(media)\n",
    "qc.cx(media, bob)\n",
    "qc.barrier()\n",
    "\n",
    "display(qc.draw(output='mpl'))"
   ]
  },
  {
   "cell_type": "code",
   "execution_count": null,
   "id": "ca01a162-e727-484c-8afc-9a1436a4a532",
   "metadata": {},
   "outputs": [],
   "source": [
    "# transfer one of qubits to recieving party\n",
    "print(\"Send one to reciever\")\n",
    "qc.i(bob)\n",
    "qc.barrier()\n",
    "\n",
    "display(qc.draw(output='mpl'))"
   ]
  },
  {
   "cell_type": "code",
   "execution_count": null,
   "id": "4f4c878d-0461-44c0-a8a5-9aefd558e008",
   "metadata": {},
   "outputs": [],
   "source": [
    "# prepare a qubit on sender's side\n",
    "print(\"What will we teleport? Prepare SOME state\")\n",
    "value = 0.12345\n",
    "qc.ry(value * 2, alice)\n",
    "qc.barrier()\n",
    "\n",
    "display(qc.draw(output='mpl'))"
   ]
  },
  {
   "cell_type": "code",
   "execution_count": null,
   "id": "4d5787f2-fe4d-46b5-8731-dd87493cb9e9",
   "metadata": {},
   "outputs": [],
   "source": [
    "# measure the qubit in Bell state\n",
    "print(\"Measure on sender's side in Bell's basis\")\n",
    "qc.cx(alice, media)\n",
    "qc.h(alice)\n",
    "qc.measure([media, alice], cr)  # 2 last qubits\n",
    "qc.barrier()\n",
    "\n",
    "display(qc.draw(output='mpl'))"
   ]
  },
  {
   "cell_type": "code",
   "execution_count": null,
   "id": "43421ba1-f60a-46fd-86b4-810700f1eccc",
   "metadata": {},
   "outputs": [],
   "source": [
    "print(\"Post-processing: if state is different from Ф+\")\n",
    "qc.x(bob).c_if(cr[0], 1)\n",
    "qc.z(bob).c_if(cr[1], 1)\n",
    "\n",
    "display(qc.draw(output='mpl'))"
   ]
  },
  {
   "cell_type": "code",
   "execution_count": null,
   "id": "459b1a6d-94ea-40e2-bbf5-ef24d80d53d8",
   "metadata": {},
   "outputs": [],
   "source": [
    "# read the state vector\n",
    "job = execute(qc, BasicAer.get_backend('statevector_simulator'), optimization_level=0, shots=1)\n",
    "current_quantum_state = abs(job.result().get_statevector(qc, decimals=6))\n",
    "print(\"the state vector is\")\n",
    "print(current_quantum_state)\n",
    "\n",
    "i = 0\n",
    "while current_quantum_state[i] == 0.0:\n",
    "    i += 1\n",
    "\n",
    "cos = current_quantum_state[i]\n",
    "from math import acos\n",
    "\n",
    "print(\"\\nLook here >>>>>>>>>>>>>>>:\", acos(cos))"
   ]
  },
  {
   "cell_type": "markdown",
   "id": "b283f296-968d-4ced-958c-29aa406e6de5",
   "metadata": {},
   "source": [
    "[2021, IBM](https://qiskit.org/textbook/ch-algorithms/teleportation.html): The IBM quantum computers ~~currently do not support instructions after measurements~~, meaning we cannot run the quantum teleportation in its current form on real hardware. Fortunately, this does not limit our ability to perform any computations due to the deferred measurement principle discussed in chapter 4.4 of [this book](http://mmrc.amss.cas.cn/tlb/201702/W020170224608149940643.pdf). The principle states that any measurement can be postponed until the end of the circuit, i.e. we can move all the measurements to the end, and we should see the same results.\n",
    "\n"
   ]
  }
 ],
 "metadata": {
  "kernelspec": {
   "display_name": "Python 3 (ipykernel)",
   "language": "python",
   "name": "python3"
  },
  "language_info": {
   "codemirror_mode": {
    "name": "ipython",
    "version": 3
   },
   "file_extension": ".py",
   "mimetype": "text/x-python",
   "name": "python",
   "nbconvert_exporter": "python",
   "pygments_lexer": "ipython3",
   "version": "3.9.13"
  }
 },
 "nbformat": 4,
 "nbformat_minor": 5
}
