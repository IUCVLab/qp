{
 "cells": [
  {
   "cell_type": "code",
   "execution_count": 1,
   "id": "a98fbae5-6955-4966-99d6-bf8da117bd0a",
   "metadata": {},
   "outputs": [],
   "source": [
    "# !pip install qiskit"
   ]
  },
  {
   "cell_type": "markdown",
   "id": "6e5f859e-d33a-4da4-926b-d69b372cbe66",
   "metadata": {},
   "source": [
    "# This is a program"
   ]
  },
  {
   "cell_type": "code",
   "execution_count": 1,
   "id": "828355e2-7349-4576-9a85-0522fcc75490",
   "metadata": {},
   "outputs": [
    {
     "data": {
      "image/png": "[encoded data removed]",
      "text/plain": [
       "<Figure size 306.929x200.667 with 1 Axes>"
      ]
     },
     "metadata": {},
     "output_type": "display_data"
    },
    {
     "name": "stdout",
     "output_type": "stream",
     "text": [
      "OPENQASM 2.0;\n",
      "include \"qelib1.inc\";\n",
      "qreg qbit[1];\n",
      "creg bit[1];\n",
      "x qbit[0];\n",
      "measure qbit[0] -> bit[0];\n",
      "\n"
     ]
    }
   ],
   "source": [
    "import matplotlib.pyplot as plt\n",
    "from qiskit import QuantumRegister, ClassicalRegister, QuantumCircuit\n",
    "from qiskit.visualization import plot_histogram\n",
    "\n",
    "\n",
    "############# CREATE #####################\n",
    "qr = QuantumRegister(1, 'qbit')\n",
    "cr = ClassicalRegister(1, 'bit')\n",
    "qc = QuantumCircuit(qr, cr)\n",
    "\n",
    "qc.x(0)\n",
    "qc.measure(0, 0)\n",
    "\n",
    "display(qc.draw(output='mpl'))\n",
    "print(qc.qasm())"
   ]
  },
  {
   "cell_type": "markdown",
   "id": "826af33c-861d-4cce-ac1a-d8063456eb43",
   "metadata": {},
   "source": [
    "# Run the code on a real quantum computer\n",
    "## IBMQ Backends\n",
    "\n",
    "![](https://miro.medium.com/max/700/1*YuR-BtRRTxLQ5EXW8fbUEQ.png)\n",
    "\n",
    "`Provider` - IBM Quantum Experience account provider. A server to ask about machines.\n",
    "\n",
    "`Backend` - IBM Quantum Experience device. Quantum computer.\n",
    "\n",
    "## Obtaining the token\n",
    "\n",
    "Visit https://quantum-computing.ibm.com/account and get the key!\n",
    "\n",
    "Visit https://quantum-computing.ibm.com/services?services=systems&systems=yours and choose a backend (1 bit is ok)."
   ]
  },
  {
   "cell_type": "code",
   "execution_count": 2,
   "id": "a44fd9b4-e678-4bfa-aac4-9a5fa02f149f",
   "metadata": {},
   "outputs": [],
   "source": [
    "from qiskit import IBMQ, execute"
   ]
  },
  {
   "cell_type": "code",
   "execution_count": 3,
   "id": "290746b0-46c7-4f35-b9b6-1eab27987512",
   "metadata": {},
   "outputs": [],
   "source": [
    "token = open(\"../token.ibm\").read()"
   ]
  },
  {
   "cell_type": "code",
   "execution_count": null,
   "id": "afbd13f6-1f67-4366-8e3b-3b9ad52a4d81",
   "metadata": {},
   "outputs": [],
   "source": [
    "IBMQ.save_account(token)"
   ]
  },
  {
   "cell_type": "code",
   "execution_count": 6,
   "id": "9528c6c6-99e2-4f3a-bbc7-4bcc556ff6f5",
   "metadata": {},
   "outputs": [
    {
     "name": "stderr",
     "output_type": "stream",
     "text": [
      "ibmqfactory.load_account:WARNING:2023-09-21 12:26:26,942: Credentials are already in use. The existing account in the session will be replaced.\n"
     ]
    },
    {
     "name": "stdout",
     "output_type": "stream",
     "text": [
      "======== Provider list =======\n",
      "[<AccountProvider for IBMQ(hub='ibm-q', group='open', project='main')>]\n",
      "\n",
      "========== QPU list ==========\n",
      "('ibmq_qasm_simulator', 32, 0)\n",
      "('ibmq_lima', 5, 12178)\n",
      "('ibmq_belem', 5, 480)\n",
      "('ibmq_quito', 5, 629)\n",
      "('simulator_statevector', 32, 0)\n",
      "('simulator_mps', 100, 0)\n",
      "('simulator_extended_stabilizer', 63, 0)\n",
      "('simulator_stabilizer', 5000, 0)\n",
      "('ibmq_jakarta', 7, 946)\n",
      "('ibmq_manila', 5, 4316)\n",
      "('ibm_lagos', 7, 175)\n",
      "('ibm_nairobi', 7, 698)\n",
      "('ibm_perth', 7, 815)\n",
      "\n",
      "========== QPU info ==========\n",
      "Works = True, Queue = 629, My Job Limit = 0/3, Qubits = 5\n"
     ]
    }
   ],
   "source": [
    "IBMQ.load_account()\n",
    "\n",
    "print(\"======== Provider list =======\")\n",
    "print(list(IBMQ.providers()))\n",
    "\n",
    "provider = IBMQ.get_provider('ibm-q')\n",
    "print(\"\\n========== QPU list ==========\")\n",
    "print(*[\n",
    "        (qpu.name(), qpu.configuration().n_qubits, qpu.status().pending_jobs) \n",
    "        for qpu in provider.backends()], sep=\"\\n\")\n",
    "\n",
    "print(\"\\n========== QPU info ==========\")\n",
    "machine = \"ibmq_quito\"               # try lima, belem, manila, quito \n",
    "qpu = provider.get_backend(machine) \n",
    "\n",
    "nq = qpu.configuration().n_qubits\n",
    "my_limit = qpu.job_limit().maximum_jobs\n",
    "my_jobs = qpu.job_limit().active_jobs\n",
    "\n",
    "status = qpu.status()\n",
    "is_operational = status.operational\n",
    "jobs_in_queue = status.pending_jobs\n",
    "\n",
    "print(f\"Works = {is_operational}, Queue = {jobs_in_queue}, \"\n",
    "      f\"My Job Limit = {my_jobs}/{my_limit}, Qubits = {nq}\")"
   ]
  },
  {
   "cell_type": "code",
   "execution_count": 7,
   "id": "36f76f1b-fbad-44a1-9a50-fd7d5d633ac5",
   "metadata": {},
   "outputs": [
    {
     "name": "stdout",
     "output_type": "stream",
     "text": [
      "Job Status: job has successfully run\n"
     ]
    }
   ],
   "source": [
    "qpu = provider.get_backend(\"ibmq_quito\")\n",
    "job = execute(qc, backend=qpu, shots=40)\n",
    "\n",
    "from qiskit.tools.monitor import job_monitor\n",
    "\n",
    "job_monitor(job)"
   ]
  },
  {
   "cell_type": "code",
   "execution_count": 8,
   "id": "01c30cab-6227-4841-bd9c-d5d58a2e1a8d",
   "metadata": {},
   "outputs": [
    {
     "data": {
      "image/png": "[encoded data removed]",
      "text/plain": [
       "<Figure size 504x360 with 1 Axes>"
      ]
     },
     "execution_count": 8,
     "metadata": {},
     "output_type": "execute_result"
    }
   ],
   "source": [
    "counts = job.result().get_counts()\n",
    "plot_histogram(counts)"
   ]
  }
 ],
 "metadata": {
  "kernelspec": {
   "display_name": "Python 3 (ipykernel)",
   "language": "python",
   "name": "python3"
  },
  "language_info": {
   "codemirror_mode": {
    "name": "ipython",
    "version": 3
   },
   "file_extension": ".py",
   "mimetype": "text/x-python",
   "name": "python",
   "nbconvert_exporter": "python",
   "pygments_lexer": "ipython3",
   "version": "3.9.13"
  }
 },
 "nbformat": 4,
 "nbformat_minor": 5
}
