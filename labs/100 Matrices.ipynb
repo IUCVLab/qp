{
 "cells": [
  {
   "cell_type": "markdown",
   "id": "25fc654b-ccb4-494d-b9ef-f48a2de66a81",
   "metadata": {},
   "source": [
    "# Matrix encoding approaches is general"
   ]
  },
  {
   "cell_type": "markdown",
   "id": "367ecd44-bfe2-4103-ac69-fd51ac2bf3cf",
   "metadata": {},
   "source": [
    "![](images/encodings.png)"
   ]
  },
  {
   "cell_type": "markdown",
   "id": "4b1e7994-7064-4114-9704-c557260fe63d",
   "metadata": {},
   "source": [
    "### Steps\n",
    "\n",
    "Out task is to look at the process or matrix encoding.\n",
    "\n",
    "### Prepare extended form"
   ]
  },
  {
   "cell_type": "code",
   "execution_count": 175,
   "id": "4969ad44-6c41-4931-ab7a-d3a9debbad5f",
   "metadata": {},
   "outputs": [
    {
     "name": "stdout",
     "output_type": "stream",
     "text": [
      "M\n"
     ]
    },
    {
     "data": {
      "text/plain": [
       "array([[4.+0.j, 3.+0.j, 2.+0.j],\n",
       "       [3.+0.j, 0.+2.j, 0.+1.j]])"
      ]
     },
     "metadata": {},
     "output_type": "display_data"
    },
    {
     "name": "stdout",
     "output_type": "stream",
     "text": [
      "M extended\n"
     ]
    },
    {
     "data": {
      "text/plain": [
       "array([[0.+0.j, 0.+0.j, 4.+0.j, 3.+0.j, 2.+0.j],\n",
       "       [0.+0.j, 0.+0.j, 3.+0.j, 0.+2.j, 0.+1.j],\n",
       "       [4.-0.j, 3.-0.j, 0.+0.j, 0.+0.j, 0.+0.j],\n",
       "       [3.-0.j, 0.-2.j, 0.+0.j, 0.+0.j, 0.+0.j],\n",
       "       [2.-0.j, 0.-1.j, 0.+0.j, 0.+0.j, 0.+0.j]])"
      ]
     },
     "metadata": {},
     "output_type": "display_data"
    }
   ],
   "source": [
    "import numpy as np\n",
    "\n",
    "M = np.array([[4., 3, 2], [3, 2j, 1j]])\n",
    "print(\"M\")\n",
    "display(M)\n",
    "\n",
    "# TODO your code here\n",
    "\n",
    "print(\"M extended\")\n",
    "display(ME)"
   ]
  },
  {
   "cell_type": "markdown",
   "id": "83a75fd8-4da7-478d-9561-786ef8504d2e",
   "metadata": {},
   "source": [
    "#### Second -- decompose it into a form of known basis functions\n",
    "\n",
    "For this we can refer to https://arxiv.org/pdf/quant-ph/9705026.pdf\n",
    "There is also a method of solving the equation for $H$ given $U$.\n",
    "\n",
    "$U = e^{iHt/\\hbar}$\n",
    "\n",
    "We will not go through the whole process, but we will see, how to find a Hamiltonian for $X$ gate."
   ]
  },
  {
   "cell_type": "code",
   "execution_count": 157,
   "id": "3da1e72c-9d1d-437b-9bb6-5f343878feff",
   "metadata": {},
   "outputs": [],
   "source": [
    "from scipy import linalg\n",
    "\n",
    "ii = np.eye(2)\n",
    "sx = np.array([[0., 1],[ 1, 0]])\n",
    "sy = np.array([[0., -1j],[1j, 0]])\n",
    "sz = np.array([[1., 0],[0, -1]])"
   ]
  },
  {
   "cell_type": "markdown",
   "id": "0f664b11-cfff-43c0-8fac-425dbecdb3cf",
   "metadata": {},
   "source": [
    "### TODO\n",
    "Look at the formulas (1)-(3) in the paper as define $\\alpha, \\beta$."
   ]
  },
  {
   "cell_type": "code",
   "execution_count": 160,
   "id": "cd5f51f9-b7db-496c-989e-e7e916408126",
   "metadata": {},
   "outputs": [],
   "source": [
    "alpha = ...\n",
    "beta = ..."
   ]
  },
  {
   "cell_type": "code",
   "execution_count": 162,
   "id": "3a0d6fd2-018e-4305-aca0-90abf2f8f5a3",
   "metadata": {},
   "outputs": [],
   "source": [
    "# according to (11)\n",
    "gamma = (alpha - beta) / 2"
   ]
  },
  {
   "cell_type": "markdown",
   "id": "9fa2c084-d61f-4781-a4ec-d7a15d40b38b",
   "metadata": {},
   "source": [
    "### Compose a Hamiltonian as in (12)\n",
    "Omit $\\hbar, \\Delta t$, keep other parts. Find $N$ which satisfies our task."
   ]
  },
  {
   "cell_type": "code",
   "execution_count": 176,
   "id": "56a4bf36-0f00-4347-8175-6e5fbda49917",
   "metadata": {},
   "outputs": [
    {
     "name": "stdout",
     "output_type": "stream",
     "text": [
      "[[0.+0.j 0.+1.j]\n",
      " [0.+1.j 0.+0.j]]\n"
     ]
    }
   ],
   "source": [
    "from math import cos, sin, pi\n",
    "\n",
    "#TODO you formula here as per (12)\n",
    "\n",
    "print(X)"
   ]
  }
 ],
 "metadata": {
  "kernelspec": {
   "display_name": "Python 3 (ipykernel)",
   "language": "python",
   "name": "python3"
  },
  "language_info": {
   "codemirror_mode": {
    "name": "ipython",
    "version": 3
   },
   "file_extension": ".py",
   "mimetype": "text/x-python",
   "name": "python",
   "nbconvert_exporter": "python",
   "pygments_lexer": "ipython3",
   "version": "3.9.13"
  }
 },
 "nbformat": 4,
 "nbformat_minor": 5
}
