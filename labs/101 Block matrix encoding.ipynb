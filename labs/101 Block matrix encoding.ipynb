{
 "cells": [
  {
   "cell_type": "markdown",
   "id": "0b53465a-a6a1-49b3-8b7e-ad63ef295b8a",
   "metadata": {},
   "source": [
    "# 1-2-3 of block matrix encoding\n",
    "\n",
    "## 0 - we need a matrix :)\n",
    "\n",
    "Let it be some clear matrix, e.g. ceil to the closest even number. We will also limit the number of elements to 7."
   ]
  },
  {
   "cell_type": "code",
   "execution_count": null,
   "id": "aca34333-0c78-45ef-b6f1-b1590a2d4298",
   "metadata": {},
   "outputs": [],
   "source": [
    "import numpy as np\n",
    "import math\n",
    "\n",
    "inc = np.zeros((7, 7), dtype=np.complex128)\n",
    "\n",
    "for i in range(7):\n",
    "    inc[math.ceil(i/2) * 2 % 8, i] = 1.0\n",
    "\n",
    "print(inc)"
   ]
  },
  {
   "cell_type": "code",
   "execution_count": null,
   "id": "118b40f1-b51e-4edf-a3b8-7fe5c34cdbe8",
   "metadata": {},
   "outputs": [],
   "source": [
    "# is it unitary? Noooo...\n",
    "(inc @ inc.T.conj()).real"
   ]
  },
  {
   "cell_type": "markdown",
   "id": "f218410e-acbc-40cb-a54b-1650f737d8ce",
   "metadata": {},
   "source": [
    "## 1 - pad it!\n",
    "\n",
    "I'd say this is unnecessary step for modelling a unitary matrix, but we are only allowed to operate $2^n$-dimensional statevectors."
   ]
  },
  {
   "cell_type": "code",
   "execution_count": null,
   "id": "53f50fc6-98a3-4417-82b1-4c2812989d3e",
   "metadata": {},
   "outputs": [],
   "source": [
    "A = np.zeros((\n",
    "             2 ** math.ceil(\n",
    "                    math.log2(inc.shape[0])   # round up to pthe power of 2.\n",
    "             ),\n",
    "             2 ** math.ceil(\n",
    "                    math.log2(inc.shape[1])\n",
    "             )\n",
    "             )\n",
    "    , dtype=np.complex128\n",
    ")\n",
    "A[:inc.shape[0], :inc.shape[1]] = inc\n",
    "\n",
    "import matplotlib.pyplot as plt\n",
    "plt.imshow(A.real)"
   ]
  },
  {
   "cell_type": "markdown",
   "id": "e70c7e6e-c112-4a4a-bdf6-3edff583da14",
   "metadata": {},
   "source": [
    "# 2 - fill it!\n",
    "\n",
    "There is also a [valuable comment in the video](https://www.youtube.com/watch?v=d3f3JRo0WUo), that we prefer a dense A. But we will ignore this for the lab and the homework. Just keep this in mind :)\n",
    "\n",
    "Formulas from here: https://arxiv.org/pdf/2203.10236.pdf.\n",
    "\n",
    "$\\begin{bmatrix}\n",
    "    A & -\\sqrt{I - A^\\dagger A} \\\\\n",
    "    +\\sqrt{I - A^\\dagger A} & A\n",
    "\\end{bmatrix}$\n",
    "\n",
    "or\n",
    "\n",
    "$\\begin{bmatrix}\n",
    "    A & \\sqrt{I - A^\\dagger A} \\\\\n",
    "    \\sqrt{I - A^\\dagger A} & -A\n",
    "\\end{bmatrix}$\n",
    "\n",
    "We will follow the second formula.\n",
    "\n",
    "NB: But for our task I observed, that lower corner is better be filled with $-A^\\dagger$ to satisfy a better approximation. This may be a technical aspect for a particular problem of a sparse matrices.\n",
    "\n",
    "ALSO: this tutorial (https://pennylane.ai/qml/demos/tutorial_intro_qsvt/) supports my finding, and fixing the matrix to be different. Note, that roots are different as well.\n",
    "\n",
    "$\\begin{bmatrix}\n",
    "    A & \\sqrt{I - AA^\\dagger } \\\\\n",
    "    \\sqrt{I - A^\\dagger A} & -A^\\dagger\n",
    "\\end{bmatrix}$"
   ]
  },
  {
   "cell_type": "code",
   "execution_count": 32,
   "id": "bb8162d5-7aae-49c0-8414-7cc85fa24cea",
   "metadata": {},
   "outputs": [],
   "source": [
    "# reserve a place for an ancillary garbage qubit\n",
    "U = np.zeros(\n",
    "    (A.shape[0] * 2, A.shape[1] * 2), \n",
    "    dtype=np.complex128\n",
    ")"
   ]
  },
  {
   "cell_type": "markdown",
   "id": "52f29c08-45fc-4b82-bf4d-6e6c99f86664",
   "metadata": {},
   "source": [
    "### Values of A and U should not exceed 1!\n",
    "\n",
    "Here I may address you to the detailed comment to the homework #2 of 2023."
   ]
  },
  {
   "cell_type": "code",
   "execution_count": null,
   "id": "126d9b76-d2c4-40e9-bb46-396328da1ca9",
   "metadata": {},
   "outputs": [],
   "source": [
    "A /= 4  # or take max(of a matrix) into account\n",
    "print(max(A.flatten()))"
   ]
  },
  {
   "cell_type": "markdown",
   "id": "d4eed61e-e145-495c-8427-eb285d43c5a9",
   "metadata": {},
   "source": [
    "### Put A in its places:"
   ]
  },
  {
   "cell_type": "code",
   "execution_count": null,
   "id": "6c871054-52d1-45a1-81b4-79797472faa0",
   "metadata": {},
   "outputs": [],
   "source": [
    "U[:A.shape[0], :A.shape[0]] = A\n",
    "U[-A.shape[0]:, -A.shape[0]:] = -A.conj().T\n",
    "plt.imshow(U.real)"
   ]
  },
  {
   "cell_type": "markdown",
   "id": "13e051ce-6d51-4283-8e39-ab4ccc33f474",
   "metadata": {},
   "source": [
    "### Compute and position the root"
   ]
  },
  {
   "cell_type": "code",
   "execution_count": null,
   "id": "d9c071dd-e21e-4e0e-ad12-9a0e83bded54",
   "metadata": {},
   "outputs": [],
   "source": [
    "from scipy.linalg import sqrtm\n",
    "\n",
    "\n",
    "root = ...\n",
    "root2 = \n",
    "\n",
    "U[:A.shape[0], -A.shape[0]:] = root\n",
    "U[-A.shape[0]:, :A.shape[0]] = root2\n",
    "\n",
    "plt.imshow(U.real)"
   ]
  },
  {
   "cell_type": "code",
   "execution_count": null,
   "id": "6fceebcd-1c80-4bfb-9002-0fe27af78d63",
   "metadata": {},
   "outputs": [],
   "source": [
    "# (U @ U.conj().T).round(3)"
   ]
  },
  {
   "cell_type": "code",
   "execution_count": null,
   "id": "6bc172b7-58df-4781-bed8-5c797175e271",
   "metadata": {},
   "outputs": [],
   "source": [
    "u, s, vd = np.linalg.svd(U)\n",
    "\n",
    "# exclude singular numbers and multiply 2 unitaries\n",
    "U_ = u @ vd\n",
    "\n",
    "plt.imshow(U_.real)"
   ]
  },
  {
   "cell_type": "markdown",
   "id": "18da3665-604a-4c5a-8c51-4faa4cf01af1",
   "metadata": {},
   "source": [
    "# 3 - simulate wisely!"
   ]
  },
  {
   "cell_type": "code",
   "execution_count": null,
   "id": "1c2e79d8-4e4c-4bb0-94bc-e114e65d4144",
   "metadata": {},
   "outputs": [],
   "source": [
    "from qiskit import QuantumCircuit, execute, transpile, BasicAer\n",
    "\n",
    "qc = QuantumCircuit(round(math.log2(U.shape[0])))\n",
    "\n",
    "# let us init the state of |1> + |6>\n",
    "# we expect the result:    |2> + |6>\n",
    "\n",
    "# |1> + |6>  = |001> + |110> = (IxIxX)(GHZ)\n",
    "\n",
    "# GHZ\n",
    "...\n",
    "\n",
    "# X\n",
    "qc.x(0)\n",
    "\n",
    "# PAY ATTENTION TO ANCILLARY VALUES! How many acillas should be use?\n",
    "qc.unitary(U_, range(4))\n",
    "\n",
    "qc.measure_all()"
   ]
  },
  {
   "cell_type": "code",
   "execution_count": null,
   "id": "e471d5bc-b50e-47cd-9995-d9273e0e3ff4",
   "metadata": {},
   "outputs": [],
   "source": [
    "counts = execute(\n",
    "    qc, \n",
    "    BasicAer.get_backend('qasm_simulator'),\n",
    "    shots=1000000).result().get_counts()\n",
    "counts"
   ]
  },
  {
   "cell_type": "code",
   "execution_count": null,
   "id": "ec3c7e06-bfb6-498a-9553-0dbe5c418f8e",
   "metadata": {},
   "outputs": [],
   "source": [
    "# what is the postprocessing step?\n",
    "clean_counts = ... "
   ]
  },
  {
   "cell_type": "code",
   "execution_count": null,
   "id": "b7033f32-6821-45f5-9b42-61ed1f8b69f9",
   "metadata": {},
   "outputs": [],
   "source": [
    "clean_counts\n",
    "from qiskit.visualization import plot_histogram\n",
    "plot_histogram(clean_counts)"
   ]
  },
  {
   "cell_type": "code",
   "execution_count": null,
   "id": "484e7598-0c1d-424b-8540-cbaae34db610",
   "metadata": {},
   "outputs": [],
   "source": [
    "qct = transpile(\n",
    "    qc, BasicAer.get_backend(\"qasm_simulator\"), \n",
    "    basis_gates=[\"rxx\", \"rx\", \"rz\"],\n",
    "    # basis_gates=[\"cz\", \"rx\", \"rz\"],\n",
    "    # basis_gates=[\"cx\", \"rx\", \"rz\"],\n",
    ")"
   ]
  },
  {
   "cell_type": "code",
   "execution_count": null,
   "id": "c0cdb614-fc4e-4b67-a049-98412f209954",
   "metadata": {},
   "outputs": [],
   "source": [
    "# qct.draw('mpl')\n",
    "# qct.depth()\n",
    "# qct.count_ops()"
   ]
  },
  {
   "cell_type": "markdown",
   "id": "6a2a2166-8fb1-4606-8d9c-2b2653712993",
   "metadata": {},
   "source": [
    "## Beyond that\n",
    "\n",
    "Block encoding is not the best and not the only way to put a matrix inside unitary. Current SOTA is called QSVT. It is referred in the [abovementioned tutorial](https://pennylane.ai/qml/demos/tutorial_intro_qsvt/)."
   ]
  }
 ],
 "metadata": {
  "kernelspec": {
   "display_name": "Python 3 (ipykernel)",
   "language": "python",
   "name": "python3"
  },
  "language_info": {
   "codemirror_mode": {
    "name": "ipython",
    "version": 3
   },
   "file_extension": ".py",
   "mimetype": "text/x-python",
   "name": "python",
   "nbconvert_exporter": "python",
   "pygments_lexer": "ipython3",
   "version": "3.9.13"
  }
 },
 "nbformat": 4,
 "nbformat_minor": 5
}
