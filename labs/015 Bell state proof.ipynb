{
 "cells": [
  {
   "cell_type": "markdown",
   "id": "ae1ac784-3c22-43ce-a208-ac59352b984a",
   "metadata": {},
   "source": [
    "# Let's prepare all important matrices"
   ]
  },
  {
   "cell_type": "code",
   "execution_count": null,
   "id": "fbc8afa8-0770-4a28-8eb9-cc4f6816b752",
   "metadata": {},
   "outputs": [],
   "source": [
    "import numpy as np\n",
    "CNOT = np.eye(4)\n",
    "CNOT[2:, 2:] = 1 - CNOT[2:, 2:]\n",
    "I = np.eye(2)\n",
    "H = np.ones((2, 2)) * .5 **.5\n",
    "H[-1, -1] = -H[-1, -1]\n",
    "\n",
    "ZERO = np.array([1., 0.])\n",
    "ONE = np.array([0., 1.])\n",
    "X = np.vstack([ONE, ZERO])\n",
    "Z = np.vstack([ZERO, -ONE])\n",
    "PLUS = .5 ** .5 * (ZERO + ONE)\n",
    "MINUS = Z @ PLUS"
   ]
  },
  {
   "cell_type": "markdown",
   "id": "0fb57c3a-c456-4128-8f50-8f5f8d5f4c26",
   "metadata": {},
   "source": [
    "## How can we achieve these states with matrices or quantum program?\n",
    "\n",
    "$|\\Phi ^{+}\\rangle ={\\frac  {1}{{\\sqrt  {2}}}}(|0\\rangle _{A}\\otimes |0\\rangle _{B}+|1\\rangle _{A}\\otimes |1\\rangle _{B})$\n",
    "\n",
    "$|\\Phi ^{-}\\rangle ={\\frac  {1}{{\\sqrt  {2}}}}(|0\\rangle _{A}\\otimes |0\\rangle _{B}-|1\\rangle _{A}\\otimes |1\\rangle _{B})$\n",
    "\n",
    "\n",
    "$|\\Psi ^{+}\\rangle ={\\frac  {1}{{\\sqrt  {2}}}}(|0\\rangle _{A}\\otimes |1\\rangle _{B}+|1\\rangle _{A}\\otimes |0\\rangle _{B})$\n",
    "\n",
    "$|\\Psi ^{-}\\rangle ={\\frac  {1}{{\\sqrt  {2}}}}(|0\\rangle _{A}\\otimes |1\\rangle _{B}-|1\\rangle _{A}\\otimes |0\\rangle _{B})$"
   ]
  },
  {
   "cell_type": "code",
   "execution_count": null,
   "id": "64870a44-f34a-4462-a376-13d4b1d99a04",
   "metadata": {},
   "outputs": [],
   "source": [
    "# TODO: how may we combine the matrices above to get those Bell states?\n",
    "BELL = ...\n",
    "print(BELL.round(3))"
   ]
  },
  {
   "cell_type": "markdown",
   "id": "6940b2d9-5646-44a2-9eb0-8a05e985e030",
   "metadata": {},
   "source": [
    "# Repeat this in Quantum\n",
    "\n",
    "\n",
    "Prepare $|\\Phi^+\\rangle$ state.\n",
    "\n",
    "After this, modify your circuit to prepare $|\\Psi^-\\rangle$ state."
   ]
  },
  {
   "cell_type": "code",
   "execution_count": null,
   "id": "dc12bbce-2449-4068-ab9d-19009f92babd",
   "metadata": {},
   "outputs": [],
   "source": [
    "from qiskit import QuantumRegister, ClassicalRegister, QuantumCircuit\n",
    "from qiskit import execute, Aer\n",
    "\n",
    "# visualization code\n",
    "from qiskit.visualization import plot_histogram\n",
    "\n",
    "qr = QuantumRegister(2, 'qbits')\n",
    "cr = ClassicalRegister(2, 'bits')\n",
    "qc = QuantumCircuit(qr, cr)"
   ]
  },
  {
   "cell_type": "markdown",
   "id": "0707bca6-d130-4ac9-840c-87198940ca2d",
   "metadata": {},
   "source": [
    "NB: in qiskit the ordering is [with respect to tensor product!!!](https://quantumcomputing.stackexchange.com/questions/8244/big-endian-vs-little-endian-in-qiskit).\n",
    "\n",
    "$|R\\rangle = |ABC\\rangle = |A\\rangle\\otimes|B\\rangle\\otimes|C\\rangle$\n",
    "    \n",
    "Here $A$ will we the least significant qubit."
   ]
  },
  {
   "cell_type": "code",
   "execution_count": null,
   "id": "c824f592-9f88-4bf1-815b-d8124def21c3",
   "metadata": {},
   "outputs": [],
   "source": [
    "## TODO: Your code is here EXCEPT measurement\n",
    "\n"
   ]
  },
  {
   "cell_type": "code",
   "execution_count": null,
   "id": "3e925200-6d14-49ec-a78d-b21e5382cf77",
   "metadata": {},
   "outputs": [],
   "source": [
    "backend = Aer.get_backend('unitary_simulator')\n",
    "job = backend.run(qc)\n",
    "result = job.result()\n",
    "\n",
    "# Show the results\n",
    "U = result.get_unitary(qc, decimals=5)\n",
    "\n",
    "# this should be true for |00> initial state, but not for other!\n",
    "np.allclose(U @ np.kron(ZERO, ZERO), BELL, atol=1e-5)"
   ]
  },
  {
   "cell_type": "code",
   "execution_count": null,
   "id": "f4e815cb-adb1-4a1a-b5f2-0e76441c60dc",
   "metadata": {},
   "outputs": [],
   "source": [
    "qc.measure(qr, cr)\n",
    "qc.draw()"
   ]
  },
  {
   "cell_type": "code",
   "execution_count": null,
   "id": "57121ae2-22ac-4f05-97e6-fe1d145363d6",
   "metadata": {},
   "outputs": [],
   "source": [
    "qc.draw(output='mpl')\n",
    "plt.show()\n",
    "\n",
    "job = execute(qc, Aer.get_backend('qasm_simulator'), shots=1000)\n",
    "counts = job.result().get_counts(qc)\n",
    "plot_histogram(counts)"
   ]
  },
  {
   "cell_type": "code",
   "execution_count": null,
   "id": "a5b9691f-1693-4718-9100-b97e84526cd2",
   "metadata": {},
   "outputs": [],
   "source": [
    "qc._data = qc._data[:-2]\n",
    "qc.draw()"
   ]
  },
  {
   "cell_type": "code",
   "execution_count": null,
   "id": "241e947c-6220-43a7-b2ed-a032d8832723",
   "metadata": {},
   "outputs": [],
   "source": [
    "qc.measure(0, 0)\n",
    "qc.draw()"
   ]
  },
  {
   "cell_type": "code",
   "execution_count": null,
   "id": "687da490-28ab-46db-9fb6-5e7ec53e10a8",
   "metadata": {},
   "outputs": [],
   "source": [
    "backend = Aer.get_backend('statevector_simulator')\n",
    "for i in range(10):\n",
    "    job = backend.run(qc)\n",
    "    print(np.asarray(job.result().get_statevector()).real, end=\" -> \")\n",
    "    print(job.result().get_counts())"
   ]
  }
 ],
 "metadata": {
  "kernelspec": {
   "display_name": "Python 3 (ipykernel)",
   "language": "python",
   "name": "python3"
  },
  "language_info": {
   "codemirror_mode": {
    "name": "ipython",
    "version": 3
   },
   "file_extension": ".py",
   "mimetype": "text/x-python",
   "name": "python",
   "nbconvert_exporter": "python",
   "pygments_lexer": "ipython3",
   "version": "3.9.13"
  }
 },
 "nbformat": 4,
 "nbformat_minor": 5
}
