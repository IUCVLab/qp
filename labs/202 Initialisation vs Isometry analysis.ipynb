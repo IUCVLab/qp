{
 "cells": [
  {
   "cell_type": "markdown",
   "id": "e93ecf87",
   "metadata": {},
   "source": [
    "# Initialization vs Isometry in Qiskit"
   ]
  },
  {
   "cell_type": "markdown",
   "id": "94334142",
   "metadata": {},
   "source": [
    "According to `201 Tips and tricks.ipynb` there are exist two approaches to prepare the state: one was proposed by Shende, Bullock and Markov in [\"Synthesis of Quantum Logic Circuits\"](https://arxiv.org/abs/quant-ph/0406176) (2004) and another — by Iten et al. in [\"Quantum Circuits for Isometries\"](https://arxiv.org/abs/1501.06911) (2020). For more details please refer to correspondent notebook and original papers.\n",
    "\n",
    "This notebook concerns comparison of these two methods in terms of how close obtained states are to the desired vector. For someone who knows quantum programming inside out, the answer might appear trivial. Nevertheless, let's give it a try."
   ]
  },
  {
   "cell_type": "markdown",
   "id": "f802efe3",
   "metadata": {},
   "source": [
    "### 0. Prerequisites"
   ]
  },
  {
   "cell_type": "code",
   "execution_count": 1,
   "id": "cfeaeaa3",
   "metadata": {},
   "outputs": [],
   "source": [
    "import math\n",
    "import numpy as np\n",
    "\n",
    "from qiskit import QuantumCircuit, BasicAer, execute, transpile, IBMQ\n",
    "from scipy.stats import wasserstein_distance as ws\n",
    "from numpy import dot\n",
    "from numpy.linalg import norm\n",
    "from tqdm import tqdm\n",
    "\n",
    "IBMQ.load_account()\n",
    "\n",
    "import warnings\n",
    "warnings.filterwarnings(\"ignore\")"
   ]
  },
  {
   "cell_type": "markdown",
   "id": "b29e33de",
   "metadata": {},
   "source": [
    "### 1. Metrics"
   ]
  },
  {
   "cell_type": "markdown",
   "id": "9d8b7366",
   "metadata": {},
   "source": [
    "Let's construct a class that will examine how emperical distribution is close to an input vector. Since, we operate with arrays of numbers of a fixed length, we can consider them both as distributions and as vectors. Methods will be assessed in terms of [mean-absolute error](https://en.wikipedia.org/wiki/Mean_absolute_error), [Wasserstein metric](https://en.wikipedia.org/wiki/Wasserstein_metric) — minimal amount of work to transform one distribution into another, and [cosine similarity](https://en.wikipedia.org/wiki/Cosine_similarity) — measure of how orientation and direction of vectors is close."
   ]
  },
  {
   "cell_type": "code",
   "execution_count": 2,
   "id": "d1748c34",
   "metadata": {},
   "outputs": [],
   "source": [
    "class Metrics:\n",
    "    \n",
    "    def __init__(self):\n",
    "        self.metrics_available = [\"mae\", \"wasserstein\", \"cosine_similarity\", \"n_gates\"]\n",
    "    \n",
    "    def compute(self, qc, data, dist):\n",
    "        metrics = dict(\n",
    "            mae = np.abs(data - dist).mean(),\n",
    "            wasserstein = ws(data, dist),\n",
    "            cosine_similarity = np.dot(data, dist) / (np.linalg.norm(data) * np.linalg.norm(dist)),\n",
    "            n_gates = qc.count_ops()['cx']\n",
    "        )\n",
    "        return metrics"
   ]
  },
  {
   "cell_type": "markdown",
   "id": "4e24e383",
   "metadata": {},
   "source": [
    "### 2. Baсkends"
   ]
  },
  {
   "cell_type": "markdown",
   "id": "34d9a2e3",
   "metadata": {},
   "source": [
    "Experiments will be conducted both in simulators and on a QPU. Thus, it makes sense to create a separate class that \"unifies\" creation of new backend objects."
   ]
  },
  {
   "cell_type": "code",
   "execution_count": 3,
   "id": "3e1e8d44",
   "metadata": {},
   "outputs": [],
   "source": [
    "class BackendFactory:\n",
    "    \n",
    "    def __init__(self):\n",
    "        pass\n",
    "    \n",
    "    def get_new(self):\n",
    "        pass\n",
    "    \n",
    "    def __str__(self):\n",
    "        pass"
   ]
  },
  {
   "cell_type": "code",
   "execution_count": 4,
   "id": "66de871f",
   "metadata": {},
   "outputs": [],
   "source": [
    "class QASMSimulatorFactory(BackendFactory):\n",
    "    \n",
    "    def __init__(self):\n",
    "        super().__init__()\n",
    "        pass\n",
    "    \n",
    "    def get_new(self):\n",
    "        return BasicAer.get_backend('qasm_simulator')\n",
    "    \n",
    "    def __str__(self):\n",
    "        return 'qasm_simulator'"
   ]
  },
  {
   "cell_type": "code",
   "execution_count": 5,
   "id": "1ce0be98",
   "metadata": {},
   "outputs": [],
   "source": [
    "class IBMQpuFactory(BackendFactory):\n",
    "    \n",
    "    def __init__(self, name=\"ibmq_belem\"):\n",
    "        super().__init__()\n",
    "        self.provider = IBMQ.get_provider('ibm-q')\n",
    "        self.name = name\n",
    "    \n",
    "    def get_new(self):\n",
    "        return self.provider.get_backend(self.name)\n",
    "    \n",
    "    def __str__(self):\n",
    "        return f'ibm-q {self.name}'"
   ]
  },
  {
   "cell_type": "code",
   "execution_count": 6,
   "id": "353d0036",
   "metadata": {},
   "outputs": [
    {
     "name": "stdout",
     "output_type": "stream",
     "text": [
      "ibmq_qasm_simulator\t is online=True\twith a queue=2\n",
      "ibmq_lima\t is online=True\twith a queue=372\n",
      "ibmq_belem\t is online=True\twith a queue=167\n",
      "ibmq_quito\t is online=True\twith a queue=6\n",
      "simulator_statevector\t is online=True\twith a queue=2\n",
      "simulator_mps\t is online=True\twith a queue=2\n",
      "simulator_extended_stabilizer\t is online=True\twith a queue=2\n",
      "simulator_stabilizer\t is online=True\twith a queue=2\n",
      "ibmq_manila\t is online=True\twith a queue=156\n",
      "ibm_nairobi\t is online=True\twith a queue=514\n",
      "ibm_oslo\t is online=True\twith a queue=271\n"
     ]
    }
   ],
   "source": [
    "provider = IBMQ.get_provider('ibm-q')\n",
    "available_cloud_backends = provider.backends() \n",
    "for backend in available_cloud_backends:\n",
    "    status = backend.status()\n",
    "    is_operational = status.operational\n",
    "    jobs_in_queue = status.pending_jobs\n",
    "    print(f\"{backend}\\t is online={is_operational}\\twith a queue={jobs_in_queue}\")"
   ]
  },
  {
   "cell_type": "markdown",
   "id": "82b1b536",
   "metadata": {},
   "source": [
    "You can check status of the job [here](https://quantum-computing.ibm.com/jobs)."
   ]
  },
  {
   "cell_type": "markdown",
   "id": "62260c7f",
   "metadata": {},
   "source": [
    "### 3. Design single experiment"
   ]
  },
  {
   "cell_type": "markdown",
   "id": "48617674",
   "metadata": {},
   "source": [
    "Our experiment consists of several stages: \n",
    "1. Prepare a random vector of size n\n",
    "2. Create two quantum circuits with `.initialize()` and `.isometry()` methods\n",
    "3. Execute quantum circuits\n",
    "4. Measure the resultant distribution\n",
    "5. Assess how close is this distribution to the desired one"
   ]
  },
  {
   "cell_type": "code",
   "execution_count": 7,
   "id": "77ad2899",
   "metadata": {},
   "outputs": [],
   "source": [
    "class Experiment:\n",
    "    \n",
    "    def __init__(self, backend_factory, n_repetitions=1, n_qubits=4, shots=65535):\n",
    "        self.backend_factory = backend_factory\n",
    "        self.n_repetitions = n_repetitions\n",
    "        self.n_qubits = n_qubits\n",
    "        self.vector_size = 2 ** n_qubits\n",
    "        self.shots = shots\n",
    "        \n",
    "        self.data = self.__get_random_vector()\n",
    "        self.metrics = Metrics()\n",
    "        \n",
    "    def run(self):\n",
    "        results = list()\n",
    "        data = self.data\n",
    "        for rep in tqdm(range(self.n_repetitions)):  \n",
    "            init_qc = self.__prepare_initialize_circuit(data)\n",
    "            isom_qc = self.__prepare_isometry_circuit(data)\n",
    "\n",
    "            result = dict(\n",
    "                initialize = self.__apply(init_qc, data, self.shots),\n",
    "                isometry = self.__apply(isom_qc, data, self.shots)\n",
    "            )\n",
    "            results.append(result)\n",
    "        return results\n",
    "    \n",
    "    def __prepare_initialize_circuit(self, data):\n",
    "        n = self.n_qubits\n",
    "        range_n = range(n)\n",
    "        qc = QuantumCircuit(n, n)\n",
    "        qc.initialize(data)\n",
    "        qc.measure(range_n, range_n)\n",
    "        return qc\n",
    "    \n",
    "    def __prepare_isometry_circuit(self, data):\n",
    "        n = self.n_qubits\n",
    "        range_n = range(n)\n",
    "        qc = QuantumCircuit(n, n)\n",
    "        qc.isometry(data, list(range_n), None)\n",
    "        qc.measure(range_n, range_n)\n",
    "        return qc\n",
    "    \n",
    "    def __apply(self, qc, data, shots):\n",
    "        backend = self.backend_factory.get_new()\n",
    "        qc = transpile(qc, backend)\n",
    "        counts = execute(qc, backend, shots=shots).result().get_counts()\n",
    "        dist = self.__get_dist(counts)\n",
    "        metrics = self.metrics.compute(qc, data, dist)\n",
    "        return metrics\n",
    "    \n",
    "    def __get_dist(self, counts):\n",
    "        dist = [0. for i in range(self.vector_size)]\n",
    "        for a, b in sorted(list(counts.items())):\n",
    "            dist[int(a, 2)] = b\n",
    "        dist = np.array(dist)\n",
    "        dist = dist / np.linalg.norm(dist)\n",
    "        return dist\n",
    "        \n",
    "    def __get_random_vector(self):\n",
    "        a = np.random.rand(self.vector_size)\n",
    "        a = a / np.linalg.norm(a)\n",
    "        return a"
   ]
  },
  {
   "cell_type": "code",
   "execution_count": 8,
   "id": "952c9ef4",
   "metadata": {},
   "outputs": [],
   "source": [
    "experiment_sim = Experiment(\n",
    "    backend_factory=QASMSimulatorFactory(),\n",
    "    n_repetitions=1,\n",
    "    n_qubits=5, \n",
    "    shots=65535\n",
    ")"
   ]
  },
  {
   "cell_type": "markdown",
   "id": "46358889",
   "metadata": {},
   "source": [
    "Let's run experiments both in simulator and QPU for sanity checking."
   ]
  },
  {
   "cell_type": "code",
   "execution_count": 9,
   "id": "82df9ec6",
   "metadata": {},
   "outputs": [
    {
     "name": "stderr",
     "output_type": "stream",
     "text": [
      "100%|██████████████████████████████████████████████████████████████████████████████████████████████████████| 1/1 [00:00<00:00,  2.68it/s]\n"
     ]
    },
    {
     "data": {
      "text/plain": [
       "[{'initialize': {'mae': 0.03819196067887481,\n",
       "   'wasserstein': 0.03819196067887481,\n",
       "   'cosine_similarity': 0.9709690437661644,\n",
       "   'n_gates': 30},\n",
       "  'isometry': {'mae': 0.03777557243896339,\n",
       "   'wasserstein': 0.0377755724389634,\n",
       "   'cosine_similarity': 0.9711656966602549,\n",
       "   'n_gates': 26}}]"
      ]
     },
     "execution_count": 9,
     "metadata": {},
     "output_type": "execute_result"
    }
   ],
   "source": [
    "experiment_sim.run()"
   ]
  },
  {
   "cell_type": "code",
   "execution_count": 10,
   "id": "84326e8a",
   "metadata": {},
   "outputs": [],
   "source": [
    "experiment_ibm = Experiment(\n",
    "    backend_factory=IBMQpuFactory(name=\"ibmq_quito\"),\n",
    "    n_repetitions=1,\n",
    "    n_qubits=5, \n",
    "    shots=20000 # max. number of shots for ibm-q\n",
    ")"
   ]
  },
  {
   "cell_type": "code",
   "execution_count": 11,
   "id": "35693418",
   "metadata": {},
   "outputs": [
    {
     "name": "stderr",
     "output_type": "stream",
     "text": [
      "100%|█████████████████████████████████████████████████████████████████████████████████████████████████████| 1/1 [04:16<00:00, 256.22s/it]\n"
     ]
    },
    {
     "data": {
      "text/plain": [
       "[{'initialize': {'mae': 0.05519181540477344,\n",
       "   'wasserstein': 0.03050661805981815,\n",
       "   'cosine_similarity': 0.9263767686992426,\n",
       "   'n_gates': 77},\n",
       "  'isometry': {'mae': 0.059142501197201255,\n",
       "   'wasserstein': 0.030878333120109413,\n",
       "   'cosine_similarity': 0.9117006440549178,\n",
       "   'n_gates': 56}}]"
      ]
     },
     "execution_count": 11,
     "metadata": {},
     "output_type": "execute_result"
    }
   ],
   "source": [
    "experiment_ibm.run()"
   ]
  },
  {
   "cell_type": "markdown",
   "id": "eb6e3475",
   "metadata": {},
   "source": [
    "### 4. Analyse multiple experiments"
   ]
  },
  {
   "cell_type": "markdown",
   "id": "2f4c4d88",
   "metadata": {},
   "source": [
    "Processes in quantum computations are stochastic. So, in order to draw any conclusions, we should (at least try to) conduct multiple experiments. Frankly speaking, we might want to run experiments until the vector averaged over all iterations converges. The bad thing is that I don't have my own QPU yet :( , so we will wait a lot in a queue. Also, this approach inherits problems with floating-point arithmetic. Therefore, let the number of iterations (=experiments) be fixed."
   ]
  },
  {
   "cell_type": "code",
   "execution_count": 12,
   "id": "f90213af",
   "metadata": {},
   "outputs": [],
   "source": [
    "class Inspector:\n",
    "    \n",
    "    def __init__(self):\n",
    "        self.metrics_available = Metrics().metrics_available\n",
    "    \n",
    "    def run(self, results, name):\n",
    "        metrics_dict_init = {m: list() for m in self.metrics_available}\n",
    "        metrics_dict_isom = {m: list() for m in self.metrics_available}\n",
    "        \n",
    "        for result in results:\n",
    "            for m, v in result[\"initialize\"].items():\n",
    "                metrics_dict_init[m].append(v)\n",
    "               \n",
    "            for m, v in result[\"isometry\"].items():\n",
    "                metrics_dict_isom[m].append(v)\n",
    "        \n",
    "        print(f\"Backend: {name}\")\n",
    "        \n",
    "        print(\"  'qc.initialise':\")\n",
    "        for m, v in metrics_dict_init.items():\n",
    "            v = np.array(v)\n",
    "            print(f\"\\t{m}: {v.mean():.8f} ± {v.var():.8f}\")\n",
    "        \n",
    "        print(\"  'qc.isometry':\")\n",
    "        for m, v in metrics_dict_isom.items():\n",
    "            v = np.array(v)\n",
    "            print(f\"\\t{m}: {v.mean():.8f} ± {v.var():.8f}\")\n",
    "         \n",
    "        "
   ]
  },
  {
   "cell_type": "code",
   "execution_count": 13,
   "id": "7f0b5751",
   "metadata": {},
   "outputs": [],
   "source": [
    "inspector = Inspector()"
   ]
  },
  {
   "cell_type": "code",
   "execution_count": 14,
   "id": "a803a049",
   "metadata": {},
   "outputs": [
    {
     "name": "stderr",
     "output_type": "stream",
     "text": [
      "100%|████████████████████████████████████████████████████████████████████████████████████████████████| 1000/1000 [05:57<00:00,  2.80it/s]"
     ]
    },
    {
     "name": "stdout",
     "output_type": "stream",
     "text": [
      "Backend: qasm_simulator\n",
      "  'qc.initialise':\n",
      "\tmae: 0.04347118 ± 0.00000022\n",
      "\twasserstein: 0.04347107 ± 0.00000022\n",
      "\tcosine_similarity: 0.96350168 ± 0.00000057\n",
      "\tn_gates: 30.00000000 ± 0.00000000\n",
      "  'qc.isometry':\n",
      "\tmae: 0.04347910 ± 0.00000025\n",
      "\twasserstein: 0.04347907 ± 0.00000025\n",
      "\tcosine_similarity: 0.96347720 ± 0.00000068\n",
      "\tn_gates: 26.00000000 ± 0.00000000\n"
     ]
    },
    {
     "name": "stderr",
     "output_type": "stream",
     "text": [
      "\n"
     ]
    }
   ],
   "source": [
    "experiment_sim = Experiment(\n",
    "    backend_factory=QASMSimulatorFactory(),\n",
    "    n_repetitions=1000,\n",
    "    n_qubits=5, \n",
    "    shots=65535\n",
    ")\n",
    "\n",
    "results_sim = experiment_sim.run()\n",
    "inspector.run(results_sim, \"qasm_simulator\")"
   ]
  },
  {
   "cell_type": "code",
   "execution_count": 15,
   "id": "21505b3c",
   "metadata": {},
   "outputs": [
    {
     "name": "stderr",
     "output_type": "stream",
     "text": [
      "100%|███████████████████████████████████████████████████████████████████████████████████████████████████| 10/10 [36:02<00:00, 216.26s/it]"
     ]
    },
    {
     "name": "stdout",
     "output_type": "stream",
     "text": [
      "Backend: ibmq_quito\n",
      "  'qc.initialise':\n",
      "\tmae: 0.07594956 ± 0.00008863\n",
      "\twasserstein: 0.04050669 ± 0.00003384\n",
      "\tcosine_similarity: 0.85887136 ± 0.00134992\n",
      "\tn_gates: 68.30000000 ± 28.61000000\n",
      "  'qc.isometry':\n",
      "\tmae: 0.06860864 ± 0.00004447\n",
      "\twasserstein: 0.03987021 ± 0.00002749\n",
      "\tcosine_similarity: 0.88385328 ± 0.00060818\n",
      "\tn_gates: 65.00000000 ± 45.00000000\n"
     ]
    },
    {
     "name": "stderr",
     "output_type": "stream",
     "text": [
      "\n"
     ]
    }
   ],
   "source": [
    "experiment_ibm = Experiment(\n",
    "    backend_factory=IBMQpuFactory(name=\"ibmq_quito\"),\n",
    "    n_repetitions=10,\n",
    "    n_qubits=5, \n",
    "    shots=20000 # max. number of shots for ibm-q\n",
    ")\n",
    "\n",
    "results_ibm = experiment_ibm.run()\n",
    "inspector.run(results_ibm, \"ibmq_quito\")"
   ]
  },
  {
   "cell_type": "markdown",
   "id": "1fb51cf1",
   "metadata": {},
   "source": [
    "### Discussion"
   ]
  },
  {
   "cell_type": "markdown",
   "id": "e5318ee6",
   "metadata": {},
   "source": [
    "The results show that both methods are of compatible accuracy in terms of MAE, Wasserstein metric and cosine similariy. Although, `.isometry()` gives a slightly better performance. The reason is probably in the lower number of gates used by isometry and consequent better fidelity of an obtained state vector. \n",
    "\n",
    "Due to the fact that experiments take much time, I did not observe the relationship between number of qubits in use and accuracy of methods. Thus, I would assume that there is a linear dependency and results will be the same for lower number of qubits, albeit this is a topic for further study. "
   ]
  }
 ],
 "metadata": {
  "kernelspec": {
   "display_name": "Python 3 (ipykernel)",
   "language": "python",
   "name": "python3"
  },
  "language_info": {
   "codemirror_mode": {
    "name": "ipython",
    "version": 3
   },
   "file_extension": ".py",
   "mimetype": "text/x-python",
   "name": "python",
   "nbconvert_exporter": "python",
   "pygments_lexer": "ipython3",
   "version": "3.9.13"
  }
 },
 "nbformat": 4,
 "nbformat_minor": 5
}
