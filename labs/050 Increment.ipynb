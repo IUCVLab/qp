{
 "cells": [
  {
   "cell_type": "markdown",
   "id": "47edbd28-127e-4e4e-8986-7d3a3c70ebda",
   "metadata": {},
   "source": [
    "# Binary data representation\n",
    "\n",
    "Write a code, which, using [2's complement](https://en.wikipedia.org/wiki/Two%27s_complement) will represent numbers `-2` and `7` in 4-bit encoding (separately!)."
   ]
  },
  {
   "cell_type": "code",
   "execution_count": 5,
   "id": "53a73536-0195-4d63-9ddf-e66ebc3f4e87",
   "metadata": {},
   "outputs": [],
   "source": [
    "from qiskit import QuantumRegister, ClassicalRegister, QuantumCircuit\n",
    "from qiskit.visualization import plot_histogram\n",
    "from qiskit import execute, Aer\n",
    "import matplotlib.pyplot as plt"
   ]
  },
  {
   "cell_type": "code",
   "execution_count": 10,
   "id": "c59b0269-6016-4ab2-9d8f-141407d8b2ec",
   "metadata": {},
   "outputs": [
    {
     "data": {
      "text/plain": [
       "<qiskit.circuit.instructionset.InstructionSet at 0x21f65f09f40>"
      ]
     },
     "execution_count": 10,
     "metadata": {},
     "output_type": "execute_result"
    }
   ],
   "source": [
    "qr = QuantumRegister(4, 'qubits')\n",
    "cr = ClassicalRegister(4, 'bits')\n",
    "qc = QuantumCircuit(qr, cr)\n",
    "\n",
    "# write your code here \n",
    "\n",
    "qc.measure(qr, cr)"
   ]
  },
  {
   "cell_type": "markdown",
   "id": "a92992b3-2f90-463f-8127-72780691f131",
   "metadata": {},
   "source": [
    "Validate your code produces exaclty what you planned!"
   ]
  },
  {
   "cell_type": "code",
   "execution_count": 11,
   "id": "8130f625-15c8-44a4-a276-19d1859e87f0",
   "metadata": {},
   "outputs": [
    {
     "data": {
      "image/png": "[encoded data removed]",
      "text/plain": [
       "<Figure size 504x360 with 1 Axes>"
      ]
     },
     "metadata": {
      "needs_background": "light"
     },
     "output_type": "display_data"
    }
   ],
   "source": [
    "job = execute(qc, Aer.get_backend('qasm_simulator'), shots=1000)\n",
    "counts = job.result().get_counts(qc)\n",
    "plot_histogram(counts)\n",
    "plt.show()"
   ]
  },
  {
   "cell_type": "markdown",
   "id": "9924427a-11a4-45f2-a9dc-26a293ea2eb1",
   "metadata": {},
   "source": [
    "# Increment implementation\n",
    "\n",
    "## Preparation. Multicontrol\n",
    "\n",
    "Genetalization of controlled gates is [MCMT](https://qiskit.org/documentation/stubs/qiskit.circuit.library.MCMT.html). But we can do it easier, with standard gates. Up to 3 there are [classes in qiskit](https://qiskit.org/documentation/stubs/qiskit.circuit.library.C3XGate.html#qiskit.circuit.library.C3XGate). Or you can go with `XGate`."
   ]
  },
  {
   "cell_type": "code",
   "execution_count": 27,
   "id": "421c6469-84e0-480a-91f9-8393c23c4a40",
   "metadata": {},
   "outputs": [
    {
     "data": {
      "text/html": [
       "<pre style=\"word-wrap: normal;white-space: pre;background: #fff0;line-height: 1.1;font-family: &quot;Courier New&quot;,Courier,monospace\">          ┌───┐     ┌─┐         \n",
       "qubits_0: ┤ X ├──■──┤M├─────────\n",
       "          ├───┤  │  └╥┘┌─┐      \n",
       "qubits_1: ┤ X ├──■───╫─┤M├──────\n",
       "          ├───┤  │   ║ └╥┘┌─┐   \n",
       "qubits_2: ┤ X ├──■───╫──╫─┤M├───\n",
       "          └───┘┌─┴─┐ ║  ║ └╥┘┌─┐\n",
       "qubits_3: ─────┤ X ├─╫──╫──╫─┤M├\n",
       "               └───┘ ║  ║  ║ └╥┘\n",
       "  bits: 4/═══════════╩══╩══╩══╩═\n",
       "                     0  1  2  3 </pre>"
      ],
      "text/plain": [
       "          ┌───┐     ┌─┐         \n",
       "qubits_0: ┤ X ├──■──┤M├─────────\n",
       "          ├───┤  │  └╥┘┌─┐      \n",
       "qubits_1: ┤ X ├──■───╫─┤M├──────\n",
       "          ├───┤  │   ║ └╥┘┌─┐   \n",
       "qubits_2: ┤ X ├──■───╫──╫─┤M├───\n",
       "          └───┘┌─┴─┐ ║  ║ └╥┘┌─┐\n",
       "qubits_3: ─────┤ X ├─╫──╫──╫─┤M├\n",
       "               └───┘ ║  ║  ║ └╥┘\n",
       "  bits: 4/═══════════╩══╩══╩══╩═\n",
       "                     0  1  2  3 "
      ]
     },
     "metadata": {},
     "output_type": "display_data"
    },
    {
     "data": {
      "image/png": "[encoded data removed]",
      "text/plain": [
       "<Figure size 504x360 with 1 Axes>"
      ]
     },
     "metadata": {
      "needs_background": "light"
     },
     "output_type": "display_data"
    }
   ],
   "source": [
    "from qiskit.circuit.library import XGate\n",
    "cccx = XGate().control(3)\n",
    "\n",
    "qr = QuantumRegister(4, 'qubits')\n",
    "cr = ClassicalRegister(4, 'bits')\n",
    "qc = QuantumCircuit(qr, cr)\n",
    "\n",
    "qc.x([0, 1, 2])\n",
    "qc.append(cccx, qr)\n",
    "qc.measure(qr, cr)\n",
    "display(qc.draw())\n",
    "\n",
    "job = execute(qc, Aer.get_backend('qasm_simulator'), shots=1000)\n",
    "counts = job.result().get_counts(qc)\n",
    "plot_histogram(counts)\n",
    "plt.show()"
   ]
  },
  {
   "cell_type": "markdown",
   "id": "6f806cfc-83e7-4282-ae7f-6ce2aede4d5a",
   "metadata": {},
   "source": [
    "## Simple increment"
   ]
  },
  {
   "cell_type": "code",
   "execution_count": 24,
   "id": "bc912dcd-1e71-4b63-87f3-4020eba30255",
   "metadata": {},
   "outputs": [
    {
     "data": {
      "text/html": [
       "<pre style=\"word-wrap: normal;white-space: pre;background: #fff0;line-height: 1.1;font-family: &quot;Courier New&quot;,Courier,monospace\">          ┌───┐ ░                ┌───┐ ░ ┌─┐         \n",
       "qubits_0: ┤ X ├─░───■────■────■──┤ X ├─░─┤M├─────────\n",
       "          └───┘ ░   │    │  ┌─┴─┐└───┘ ░ └╥┘┌─┐      \n",
       "qubits_1: ──────░───■────■──┤ X ├──────░──╫─┤M├──────\n",
       "          ┌───┐ ░   │  ┌─┴─┐└───┘      ░  ║ └╥┘┌─┐   \n",
       "qubits_2: ┤ X ├─░───■──┤ X ├───────────░──╫──╫─┤M├───\n",
       "          └───┘ ░ ┌─┴─┐└───┘           ░  ║  ║ └╥┘┌─┐\n",
       "qubits_3: ──────░─┤ X ├────────────────░──╫──╫──╫─┤M├\n",
       "                ░ └───┘                ░  ║  ║  ║ └╥┘\n",
       "  bits: 4/════════════════════════════════╩══╩══╩══╩═\n",
       "                                          0  1  2  3 </pre>"
      ],
      "text/plain": [
       "          ┌───┐ ░                ┌───┐ ░ ┌─┐         \n",
       "qubits_0: ┤ X ├─░───■────■────■──┤ X ├─░─┤M├─────────\n",
       "          └───┘ ░   │    │  ┌─┴─┐└───┘ ░ └╥┘┌─┐      \n",
       "qubits_1: ──────░───■────■──┤ X ├──────░──╫─┤M├──────\n",
       "          ┌───┐ ░   │  ┌─┴─┐└───┘      ░  ║ └╥┘┌─┐   \n",
       "qubits_2: ┤ X ├─░───■──┤ X ├───────────░──╫──╫─┤M├───\n",
       "          └───┘ ░ ┌─┴─┐└───┘           ░  ║  ║ └╥┘┌─┐\n",
       "qubits_3: ──────░─┤ X ├────────────────░──╫──╫──╫─┤M├\n",
       "                ░ └───┘                ░  ║  ║  ║ └╥┘\n",
       "  bits: 4/════════════════════════════════╩══╩══╩══╩═\n",
       "                                          0  1  2  3 "
      ]
     },
     "metadata": {},
     "output_type": "display_data"
    },
    {
     "data": {
      "image/png": "[encoded data removed]",
      "text/plain": [
       "<Figure size 504x360 with 1 Axes>"
      ]
     },
     "metadata": {
      "needs_background": "light"
     },
     "output_type": "display_data"
    }
   ],
   "source": [
    "from qiskit.circuit.library import XGate\n",
    "cccx = XGate().control(3)\n",
    "\n",
    "qr = QuantumRegister(4, 'qubits')\n",
    "cr = ClassicalRegister(4, 'bits')\n",
    "qc = QuantumCircuit(qr, cr)\n",
    "\n",
    "qc.x([0, 2])\n",
    "qc.barrier()\n",
    "\n",
    "################ YOUR CODE HERE #########################\n",
    "\n",
    "#########################################################\n",
    "qc.barrier()\n",
    "qc.measure(qr, cr)\n",
    "display(qc.draw())\n",
    "\n",
    "job = execute(qc, Aer.get_backend('qasm_simulator'), shots=1000)\n",
    "counts = job.result().get_counts(qc)\n",
    "plot_histogram(counts)\n",
    "plt.show()"
   ]
  },
  {
   "cell_type": "markdown",
   "id": "6b51756e-338a-4931-bb1a-e66d466bb194",
   "metadata": {},
   "source": [
    "## What about increment of superposition?\n",
    "\n",
    "Prepare superposition of `-2` and `7` and apply increment to them. Prepare superposition of `0..7` and repeat.\n",
    "\n",
    "HINT: $\\frac{1}{\\sqrt{2}}(|0111\\rangle+|1110\\rangle)$ is a $|\\Psi^+\\rangle$ Bell's pair on 0'th and 3'rd qubits."
   ]
  },
  {
   "cell_type": "code",
   "execution_count": null,
   "id": "6d81b169-8d33-4f50-a800-e2868cd2bab6",
   "metadata": {},
   "outputs": [],
   "source": [
    "qr = QuantumRegister(4, 'qubits')\n",
    "cr = ClassicalRegister(4, 'bits')\n",
    "qc = QuantumCircuit(qr, cr)\n",
    "\n",
    "########### YOUR CODE HERE ###############################\n",
    "\n",
    "\n",
    "##########################################################\n",
    "\n",
    "qc.barrier()\n",
    "qc.measure(qr, cr)\n",
    "display(qc.draw())\n",
    "\n",
    "job = execute(qc, Aer.get_backend('qasm_simulator'), shots=1000)\n",
    "counts = job.result().get_counts(qc)\n",
    "plot_histogram(counts)\n",
    "plt.show()"
   ]
  },
  {
   "cell_type": "markdown",
   "id": "6220d5fa-dad4-4840-8fec-61ff9dc336bd",
   "metadata": {},
   "source": [
    "# Decrement\n",
    "\n",
    "What are the ways to construct a decrement?\n",
    "1. Constructive -- by solving a matrix form problem.\n",
    "2. Engineering -- by using qiskit magic."
   ]
  },
  {
   "cell_type": "code",
   "execution_count": null,
   "id": "8432ee73-3e51-4db0-ad12-b7b1eda2914d",
   "metadata": {},
   "outputs": [],
   "source": [
    "## TODO your code here"
   ]
  }
 ],
 "metadata": {
  "kernelspec": {
   "display_name": "qiskit",
   "language": "python",
   "name": "qiskit"
  },
  "language_info": {
   "codemirror_mode": {
    "name": "ipython",
    "version": 3
   },
   "file_extension": ".py",
   "mimetype": "text/x-python",
   "name": "python",
   "nbconvert_exporter": "python",
   "pygments_lexer": "ipython3",
   "version": "3.10.4"
  }
 },
 "nbformat": 4,
 "nbformat_minor": 5
}
