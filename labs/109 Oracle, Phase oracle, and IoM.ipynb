{
 "cells": [
  {
   "cell_type": "markdown",
   "id": "e933ffe2-8997-4498-982d-f953ce3a2b0e",
   "metadata": {},
   "source": [
    "# Oracle\n",
    "\n",
    "Oracle is a pretty old term in QC, referring to a specific way to write function $f(x)$. Oracle obeys the reversibility principle by keeping the argument unchanged (see: [uncomputing](070%20IF%20statement.ipynb)), and involving argument in the result value:\n",
    "\n",
    "![](https://i.stack.imgur.com/qbu6i.png)\n",
    "\n",
    "The most trivial oracles are 1-bit check:\n",
    "\n",
    "- $f(x) = x$:\n",
    "  - if $x = 1$, then $y = y \\oplus 1 = \\neg y$. Do we know such an operator?\n",
    "- $f(x) = 1 - x$"
   ]
  },
  {
   "cell_type": "code",
   "execution_count": null,
   "id": "59fea8f8-fbf2-4fe2-90cb-d5f24419f189",
   "metadata": {},
   "outputs": [],
   "source": [
    "from qiskit import QuantumCircuit, BasicAer, execute\n",
    "\n",
    "oracle = QuantumCircuit(2, name=\"$U_f$\")\n",
    "\n",
    "## TODO : a trivial oracle f(x)=x\n",
    "\n",
    "## TODO : a trivial oracle f(x)=1-x\n",
    "\n",
    "\n",
    "oracle.draw('mpl')"
   ]
  },
  {
   "cell_type": "code",
   "execution_count": null,
   "id": "f9a28271-70e7-4990-8111-d3221c8c92cb",
   "metadata": {},
   "outputs": [],
   "source": [
    "for i in range(4):\n",
    "    v = [0, 0, 0, 0]\n",
    "    v[i] = 1\n",
    "    qc = QuantumCircuit(2)\n",
    "    qc.initialize(v)\n",
    "    qc.append(oracle, [0, 1])\n",
    "    qc.measure_all()\n",
    "    v2 = execute(qc, backend=BasicAer.get_backend('statevector_simulator')).result().get_statevector().real\n",
    "    display(qc.draw('mpl'))\n",
    "    print(f\"{v} -> {v2}\")"
   ]
  },
  {
   "cell_type": "markdown",
   "id": "6c3a9a96-eb4c-4087-9964-ab1470c1bf52",
   "metadata": {},
   "source": [
    "## Observation!\n",
    "\n",
    "According to expected behavior, any oracle is a controlled $X$ gate, but with a complicated controlling state:\n",
    "\n",
    "![](https://qiskit.org/textbook/ch-algorithms/images/grover_boolean_oracle.svg)\n",
    "\n",
    "## Corollary!\n",
    "\n",
    "It experience [Phase Kickback](105%20Phase%20Kickback.ipynb) the same way: if acillary $y$ qubit is in an eignstate of $X$ (those are $|-\\rangle$ and $|+\\rangle$), ONLY the satisfying ($f(x) = 1$) argument accepts a corresponding phase change. \n",
    "\n",
    "### MVE:"
   ]
  },
  {
   "cell_type": "code",
   "execution_count": null,
   "id": "5871f756-5be2-4384-b168-7db530a1ea44",
   "metadata": {},
   "outputs": [],
   "source": [
    "qc = QuantumCircuit(3, 2)\n",
    "# |00> + |01> + |10> + |11>\n",
    "qc.initialize([0.5, 0.5, 0.5, 0.5], [0, 1])\n",
    "v2 = execute(qc, backend=BasicAer.get_backend('statevector_simulator')).result().get_statevector().real\n",
    "print(v2.round(3))\n",
    "# |->, eigenstate\n",
    "qc.initialize([.5 ** .5, -.5 ** .5], [2])\n",
    "# oracle\n",
    "qc.ccx(0, 1, 2)\n",
    "qc.h(2)\n",
    "qc.x(2)\n",
    "v2 = execute(qc, backend=BasicAer.get_backend('statevector_simulator')).result().get_statevector().real\n",
    "display(qc.draw('mpl'))\n",
    "print(v2.round(3))"
   ]
  },
  {
   "cell_type": "markdown",
   "id": "f2896f16-ffb6-4745-8c40-7944942e7d0b",
   "metadata": {},
   "source": [
    "## Phase oracle...\n",
    "\n",
    "... is an oracle, which is ready to be used for a phase kickback, i.e., ancilla is prepared in $|-\\rangle$.\n",
    "\n",
    "![](https://qiskit.org/textbook/ch-algorithms/images/grover_phase_oracle.svg)"
   ]
  },
  {
   "cell_type": "markdown",
   "id": "ded3f246-dd3e-4021-8956-3ab0157c0ef2",
   "metadata": {},
   "source": [
    "# 2. Inversion about mean"
   ]
  },
  {
   "cell_type": "code",
   "execution_count": null,
   "id": "808a0667-7f04-4014-8579-9d570c35cc26",
   "metadata": {},
   "outputs": [],
   "source": [
    "import matplotlib.pyplot as plt\n",
    "array = [(1./32) ** .5] * 32\n",
    "\n",
    "def f(x):\n",
    "    \"\"\"behavior of a phase oracle\"\"\"\n",
    "    return -1 if (x == 17) else 1\n",
    "\n",
    "def kickback(a):\n",
    "    for i in range(len(a)):\n",
    "        a[i] *= f(i)"
   ]
  },
  {
   "cell_type": "code",
   "execution_count": null,
   "id": "db892cd1-d946-414e-90d3-177e0f3eeee5",
   "metadata": {},
   "outputs": [],
   "source": [
    "display(plt.bar(range(32), array))"
   ]
  },
  {
   "cell_type": "code",
   "execution_count": null,
   "id": "b7946465-6ad3-4caa-b37f-c59d4cebe36a",
   "metadata": {},
   "outputs": [],
   "source": [
    "kickback(array)\n",
    "display(plt.bar(range(32), array))"
   ]
  },
  {
   "cell_type": "code",
   "execution_count": null,
   "id": "6ae286ad-75a6-4a92-9077-ad49a7acf77f",
   "metadata": {},
   "outputs": [],
   "source": [
    "def iom(a):\n",
    "    avg = sum(a) / len(a)\n",
    "    for i in range(len(a)):\n",
    "        a[i] = avg - (a[i] - avg)"
   ]
  },
  {
   "cell_type": "code",
   "execution_count": null,
   "id": "e77a5066-357c-4ebd-8001-e257d85ebb6f",
   "metadata": {},
   "outputs": [],
   "source": [
    "iom(array)\n",
    "display(plt.bar(range(32), array))"
   ]
  },
  {
   "cell_type": "code",
   "execution_count": null,
   "id": "f9e12850-9051-4e82-b9fd-52fe6b631a1d",
   "metadata": {},
   "outputs": [],
   "source": [
    "# repeat multiple times\n",
    "\n",
    "kickback(array)\n",
    "iom(array)\n",
    "display(plt.bar(range(32), array))"
   ]
  }
 ],
 "metadata": {
  "kernelspec": {
   "display_name": "Python 3 (ipykernel)",
   "language": "python",
   "name": "python3"
  },
  "language_info": {
   "codemirror_mode": {
    "name": "ipython",
    "version": 3
   },
   "file_extension": ".py",
   "mimetype": "text/x-python",
   "name": "python",
   "nbconvert_exporter": "python",
   "pygments_lexer": "ipython3",
   "version": "3.9.13"
  }
 },
 "nbformat": 4,
 "nbformat_minor": 5
}
