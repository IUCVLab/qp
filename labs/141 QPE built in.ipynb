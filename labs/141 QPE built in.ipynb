{
 "cells": [
  {
   "cell_type": "markdown",
   "id": "7ded4a1b-e786-429d-b5bb-56c0cf03a86f",
   "metadata": {},
   "source": [
    "# Phase Estimation from the box\n",
    "\n",
    "This lab is based on `PhaseEstimation` class from `qiskit.circuit.library`."
   ]
  },
  {
   "cell_type": "code",
   "execution_count": null,
   "id": "b61e8427-596c-4813-bb69-b6a5c53658bb",
   "metadata": {},
   "outputs": [],
   "source": [
    "from qiskit import QuantumRegister, ClassicalRegister, QuantumCircuit, BasicAer, execute\n",
    "from qiskit.visualization import plot_histogram\n",
    "from qiskit.circuit.library import PhaseEstimation\n",
    "import matplotlib.pyplot as plt\n",
    "import numpy as np\n",
    "from cmath import phase, pi, e"
   ]
  },
  {
   "cell_type": "markdown",
   "id": "e09ecd12-2b1e-4070-ab09-36ccc5f1f24b",
   "metadata": {},
   "source": [
    "### Let's prepare complex gate combination with non-trivial phase.\n",
    "\n",
    "We will do this in a matrix, and in a circuit form."
   ]
  },
  {
   "cell_type": "code",
   "execution_count": null,
   "id": "5d22276e-14a5-4782-b5c2-62e393496f6a",
   "metadata": {},
   "outputs": [],
   "source": [
    "H = np.array([[1, 1], [1, -1]], dtype=complex) * (.5 ** .5)\n",
    "CX = np.array([[1, 0, 0, 0], [0, 1, 0, 0], [0, 0, 0, 1], [0, 0, 1, 0]])\n",
    "U = CX @ np.kron(H, H)\n",
    "\n",
    "evals, evecs = np.linalg.eig(U)\n",
    "for val, vec in zip(evals, evecs.T):\n",
    "    print(f\"{np.round(val, 3):15} -> {np.round(vec, 3)}\")\n",
    "\n",
    "print()\n",
    "\n",
    "# we will run the method for this particular vector.\n",
    "# you may change the value to see how the method works\n",
    "# with other eigenstates\n",
    "WHICH_VECTOR = 3\n",
    "\n",
    "vector = evecs[:, WHICH_VECTOR]\n",
    "print(\"Eigenvalue:  \", np.round(evals[WHICH_VECTOR], 3))\n",
    "print(\"Eigenvector: \", np.round_(vector, 4))\n",
    "print()\n",
    "\n",
    "# lambda = e^(i * phi)\n",
    "p = phase(evals[WHICH_VECTOR])\n",
    "positive_p = p % (2 * pi)\n",
    "print(f\"φ = {p / pi:.3f} π (or {positive_p / pi:.3f} π)\")"
   ]
  },
  {
   "cell_type": "markdown",
   "id": "9a63e5fa-e769-4676-a816-4d6c0267084c",
   "metadata": {},
   "source": [
    "### Here is the prepared circuit for QPE\n",
    "\n",
    "[Docs are here](https://qiskit.org/documentation/stubs/qiskit.circuit.library.PhaseEstimation.html#)."
   ]
  },
  {
   "cell_type": "code",
   "execution_count": null,
   "id": "6d46523c-1080-4f47-a6c5-2495204c6c7b",
   "metadata": {},
   "outputs": [],
   "source": [
    "strange_circuit = QuantumCircuit(2)\n",
    "strange_circuit.h([0, 1])\n",
    "strange_circuit.cx(1, 0)\n",
    "strange_circuit.draw()"
   ]
  },
  {
   "cell_type": "code",
   "execution_count": null,
   "id": "30f54148-6071-4ac7-a28a-8d85f6a051ed",
   "metadata": {},
   "outputs": [],
   "source": [
    "# number of qubits for measurements.\n",
    "# changing this number to a bigger or a smaller value\n",
    "# will lead to a smaller or a bigger error correspondingly\n",
    "PRECISION = 9\n",
    "\n",
    "qpe = PhaseEstimation(\n",
    "    PRECISION,        # computation precision\n",
    "    strange_circuit   # the matrix\n",
    ")\n",
    "# display(qpe.draw('mpl'))\n",
    "display(qpe.decompose().draw('mpl'))"
   ]
  },
  {
   "cell_type": "markdown",
   "id": "e83c8ee2-1a23-49ef-865d-9406e43dabb4",
   "metadata": {},
   "source": [
    "QPE is a circuit. Thus, you may append it to your bigger circuit.\n",
    "\n",
    "**TODO:**\n",
    "1. Initialize last 2 qubits with an eigenvector `vector`.\n",
    "2. Append QPE circuit.\n",
    "3. Measure precision qubits. **NB: they will be given in reverse order, thus you will obseve a reversed number.**"
   ]
  },
  {
   "cell_type": "code",
   "execution_count": null,
   "id": "16af6104-752a-445f-a006-f2a6c6e9f7f9",
   "metadata": {},
   "outputs": [],
   "source": [
    "GATESIZE = 2\n",
    "qc = QuantumCircuit(PRECISION + GATESIZE, PRECISION)\n",
    "\n",
    "qc.initialize(vector, range(PRECISION, PRECISION + GATESIZE))  # 1\n",
    "qc.append(qpe, range(PRECISION + GATESIZE))                    # 2\n",
    "qc.measure(range(PRECISION), range(PRECISION))                 # 3\n",
    "\n",
    "qc.draw('mpl')"
   ]
  },
  {
   "cell_type": "code",
   "execution_count": null,
   "id": "8a216cc1-cfbe-4bdd-9598-26a454b3aa15",
   "metadata": {},
   "outputs": [],
   "source": [
    "shots = 1000\n",
    "job = execute(qc, BasicAer.get_backend('qasm_simulator'), shots=shots)\n",
    "counts = job.result().get_counts(qc)\n",
    "plot_histogram(counts)"
   ]
  },
  {
   "cell_type": "markdown",
   "id": "e6f24b3b-fabc-4f33-b7f4-c303bd08c567",
   "metadata": {},
   "source": [
    "Lasts steps are here.\n",
    "\n",
    "I extracted the most probable measurement for you.\n",
    "TODO:\n",
    "1. Convert `measurement` into an `angle`, rememering, that $2\\pi$ is split into $2^{PRECISION}$ sectors.\n",
    "2. Convert an `angle` to an `eigenvalue`. Angle is just an [argument of a complex number](https://en.wikipedia.org/wiki/Argument_(complex_analysis))."
   ]
  },
  {
   "cell_type": "code",
   "execution_count": null,
   "id": "ff983ec1-7254-44fe-b60d-565312a0854b",
   "metadata": {},
   "outputs": [],
   "source": [
    "most_frequent = sorted(counts.items(), key=lambda x: x[1])[-1][0]\n",
    "# reversed bit order!\n",
    "measurement = int(most_frequent[::-1], base=2)\n",
    "print(f\"Measured ({most_frequent}): {measurement} / {2 ** PRECISION}\")\n",
    "\n",
    "angle = measurement * (2 * pi) / (2 ** PRECISION)\n",
    "print(f\"Angle: {angle / pi} π\")\n",
    "print(f\"Angle error: { abs(positive_p - angle) / abs(angle) * 100:.2f}%\")\n",
    "\n",
    "eigenvalue = e ** (1j * angle)\n",
    "print(\"Computed eigenvalue: \", eigenvalue)\n",
    "print(\"Expected eigenvalue: \", evals[WHICH_VECTOR])"
   ]
  }
 ],
 "metadata": {
  "kernelspec": {
   "display_name": "Python 3 (ipykernel)",
   "language": "python",
   "name": "python3"
  },
  "language_info": {
   "codemirror_mode": {
    "name": "ipython",
    "version": 3
   },
   "file_extension": ".py",
   "mimetype": "text/x-python",
   "name": "python",
   "nbconvert_exporter": "python",
   "pygments_lexer": "ipython3",
   "version": "3.9.13"
  }
 },
 "nbformat": 4,
 "nbformat_minor": 5
}
