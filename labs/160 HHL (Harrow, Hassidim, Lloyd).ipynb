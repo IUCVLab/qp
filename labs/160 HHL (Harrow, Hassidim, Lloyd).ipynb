{
 "cells": [
  {
   "cell_type": "markdown",
   "id": "bcb82064-b013-4003-8fa0-7072fa2a9144",
   "metadata": {},
   "source": [
    "# HHL in qiskit\n",
    "\n",
    "Based on [qiskit tutorial](https://qiskit.org/textbook/ch-applications/hhl_tutorial.html).\n",
    "\n",
    "---\n",
    "\n",
    "Let's solve a system of linear equations $Ax=b$ in Qiskit. This is easy (joke)!\n",
    "\n",
    "After we considered the method on the whiteboard, you should know, that the method consists of 4 quantum blocks:\n",
    "\n",
    "1. $|b\\rangle$ initialization, \n",
    "2. $QPE$ of $\\tilde{A}=e^{iAt}$, \n",
    "3. eigenphase inversion, \n",
    "4. and uncomputing with $QPE^\\dagger$."
   ]
  },
  {
   "cell_type": "code",
   "execution_count": null,
   "id": "b19067de-5076-49de-9009-802b41c237ee",
   "metadata": {},
   "outputs": [],
   "source": [
    "!git clone https://github.com/anedumla/quantum_linear_solvers.git\n",
    "!pip install ./quantum_linear_solvers"
   ]
  },
  {
   "cell_type": "code",
   "execution_count": null,
   "id": "c2acb779-30d4-4473-a36a-d8aa21e2db65",
   "metadata": {},
   "outputs": [],
   "source": [
    "import numpy as np\n",
    "\n",
    "# algorithm\n",
    "from linear_solvers.hhl import HHL\n",
    "\n",
    "# Matrix A\n",
    "A = np.array([[1, -1/3], [-1/3, 1]])\n",
    "\n",
    "# vector b\n",
    "b = np.array([[1, 0]]).T\n",
    "\n",
    "axb = \"\\n\".join([\n",
    "            f\"{aa}\\t[x_{i}]     ---    {bb}\" \n",
    "            for i, aa, bb in \n",
    "            zip(\n",
    "                [0, 1],\n",
    "                str(np.round_(A, 2)).split('\\n'), \n",
    "                str(b).split('\\n')\n",
    "            )\n",
    "])\n",
    "print(\"Equation:\")\n",
    "print(axb)\n",
    "\n",
    "print(\"\\nLA Solution\")\n",
    "print(np.linalg.inv(A) @ b)\n",
    "\n",
    "naive_hhl_solution = HHL().solve(A, b)\n",
    "# print(type(naive_hhl_solution.state))\n",
    "naive_hhl_solution.state.draw('mpl')"
   ]
  },
  {
   "cell_type": "markdown",
   "id": "7d4ce206-26ee-466e-8a46-b0eacf7e242c",
   "metadata": {},
   "source": [
    "Pay attention to what is inside \"1/x\" gate."
   ]
  },
  {
   "cell_type": "code",
   "execution_count": null,
   "id": "40c3259e-a03c-469c-978b-c41c2149dc58",
   "metadata": {},
   "outputs": [],
   "source": [
    "naive_hhl_solution.state.decompose().decompose().draw(output='mpl', scale=.7)"
   ]
  },
  {
   "cell_type": "markdown",
   "id": "35fadaef-d2b4-4959-9f95-885e2a070d35",
   "metadata": {},
   "source": [
    "State vector of the whole system. What do we see in this vector? We observe non-zero amplitudes for states $|00000\\rangle$, $|00001\\rangle$, $|10000\\rangle$, and $|10001\\rangle$. Thus, only soluition qubit and \"decision\" qubits are in the superposed states."
   ]
  },
  {
   "cell_type": "code",
   "execution_count": null,
   "id": "50634b9f-4f97-48c6-a703-27206efeafca",
   "metadata": {},
   "outputs": [],
   "source": [
    "from qiskit.quantum_info import Statevector\n",
    "complete_statevector = Statevector(naive_hhl_solution.state).data\n",
    "sv = np.round_(complete_statevector, 2)\n",
    "print(\"Lower |0****>:\", sv[:len(sv)//2])\n",
    "print()\n",
    "print(\"Upper |1****>:\", sv[len(sv)//2:])"
   ]
  },
  {
   "cell_type": "markdown",
   "id": "7241ad30-701d-44ec-be82-bb8fb7cbeb9f",
   "metadata": {},
   "source": [
    "Extract the \"right subvectorvector\" components.\n",
    "\n",
    "`0b1****` corresponds to the index 16+, which means, that 0th qubit was measured as `1`.\n",
    "\n",
    "`0b*000*` -- zeros in the middle of the state mean auxillary qubits were returned to 0 by uncomputing.\n",
    "\n",
    "Thus, your solution is hidden in `0b1000*` vector positions.\n"
   ]
  },
  {
   "cell_type": "code",
   "execution_count": null,
   "id": "a7886a9c-009b-4d43-823d-cd11b8192bf6",
   "metadata": {},
   "outputs": [],
   "source": [
    "# Obtain the answer from the full vector\n",
    "# 1. Get the subvector of your interest, \n",
    "# it correponds to |10000>..|10001> state amplitudes.\n",
    "naive_full_vector = ... \n",
    "\n",
    "# 2. Get rid of conditional probability. Norm the amplitudes\n",
    "# to be a proper state vector\n",
    "x_normed = naive_full_vector\n",
    "x_normed = ...\n",
    "\n",
    "# 3. re-apply the norming factor to restore the vector we search for\n",
    "# print(naive_hhl_solution.euclidean_norm)\n",
    "x = x_normed * naive_hhl_solution.euclidean_norm\n",
    "print(x)"
   ]
  },
  {
   "cell_type": "code",
   "execution_count": null,
   "id": "5b100b65-a514-4e63-b95b-9fc89e96fc6c",
   "metadata": {},
   "outputs": [],
   "source": [
    "np.allclose(A @ x.reshape(2, 1), b)"
   ]
  },
  {
   "cell_type": "markdown",
   "id": "c6c1c523-013b-4aba-b0a6-1f72107614bb",
   "metadata": {},
   "source": [
    "## Experiment?\n",
    "\n",
    "Here we re-compose the circuit. Add missing measurements."
   ]
  },
  {
   "cell_type": "code",
   "execution_count": null,
   "id": "b5875a67-9837-427a-9458-16620ff05a3e",
   "metadata": {},
   "outputs": [],
   "source": [
    "from qiskit import QuantumCircuit, QuantumRegister, ClassicalRegister, execute, BasicAer\n",
    "from qiskit.visualization import plot_histogram\n",
    "\n",
    "qb = QuantumRegister(1, name=\"b\")\n",
    "qA = QuantumRegister(3, name=\"matrix\")   # in the older version of qiskit in was enough to have 2 qubits for mx\n",
    "qaux = QuantumRegister(1, name='aux')\n",
    "cflag = ClassicalRegister(1, name='flag')\n",
    "cres = ClassicalRegister(1, name='x')\n",
    "qc = QuantumCircuit(qb, qA, qaux, cflag, cres)\n",
    "\n",
    "hhl = HHL().solve(A, b)\n",
    "hhl.state\n",
    "qc.compose(naive_hhl_solution.state, qb[:] + qA[:] + qaux[:], inplace=True)\n",
    "qc.barrier()\n",
    "\n",
    "# TODO! measurements?\n",
    "\n",
    "qc.draw()"
   ]
  },
  {
   "cell_type": "markdown",
   "id": "5b5ed43b-5bce-4bfe-9b73-1d2f44d99337",
   "metadata": {},
   "source": [
    "There are some shots, but not all of them will be used for solution! \n",
    "\n",
    "Why?"
   ]
  },
  {
   "cell_type": "code",
   "execution_count": null,
   "id": "3542d58a-8b9b-488d-a427-a88e18aa41ba",
   "metadata": {},
   "outputs": [],
   "source": [
    "shots = 65535\n",
    "job = execute(qc, BasicAer.get_backend('qasm_simulator'), shots=shots)\n",
    "counts = job.result().get_counts(qc)"
   ]
  },
  {
   "cell_type": "markdown",
   "id": "5f1e58f0-5767-44eb-ab80-73199644b2af",
   "metadata": {},
   "source": [
    "We will remove all shots which led to `0` in flag qubit."
   ]
  },
  {
   "cell_type": "code",
   "execution_count": null,
   "id": "671fa6d4-f798-4307-a7f0-31c1d6b57609",
   "metadata": {},
   "outputs": [],
   "source": [
    "flag_is_0 = ' 0'\n",
    "del counts['0' + flag_is_0]\n",
    "del counts['1' + flag_is_0]\n",
    "plot_histogram(counts)"
   ]
  },
  {
   "cell_type": "markdown",
   "id": "eb544694-f5ae-4e52-ab4f-5e39f14d09e6",
   "metadata": {},
   "source": [
    "**TODO**. \n",
    "- You measured shots. Shots divided by `total` is probability. But you need amplitudes.\n",
    "- Reuse `euclidean_norm` to scale your soultion."
   ]
  },
  {
   "cell_type": "code",
   "execution_count": null,
   "id": "d4d7c081-d31b-41be-9903-ea088bdb6825",
   "metadata": {},
   "outputs": [],
   "source": [
    "total = counts['0 1'] + counts['1 1']\n",
    "print(total)\n",
    "\n",
    "# 1. restore the probabilities\n",
    "p0 = ...\n",
    "p1 = ...\n",
    "\n",
    "# 2. Restore amplitudes\n",
    "a0 = ...\n",
    "a1 = ...\n",
    "\n",
    "# 3. Reapply hhl.euclidean_norm\n",
    "x = np.array([a0, a1])     # TODO\n",
    "print(x)"
   ]
  }
 ],
 "metadata": {
  "kernelspec": {
   "display_name": "Python 3 (ipykernel)",
   "language": "python",
   "name": "python3"
  },
  "language_info": {
   "codemirror_mode": {
    "name": "ipython",
    "version": 3
   },
   "file_extension": ".py",
   "mimetype": "text/x-python",
   "name": "python",
   "nbconvert_exporter": "python",
   "pygments_lexer": "ipython3",
   "version": "3.9.13"
  }
 },
 "nbformat": 4,
 "nbformat_minor": 5
}
