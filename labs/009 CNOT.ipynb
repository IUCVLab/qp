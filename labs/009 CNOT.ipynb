{
 "cells": [
  {
   "cell_type": "markdown",
   "id": "6f201e02-f5b8-425c-a488-bb5b47443759",
   "metadata": {},
   "source": [
    "# CNOT\n",
    "\n",
    "In this notebook CNOT gate is introduced.\n",
    "\n",
    "CNOT is defined as \n",
    "- *\"flip the target if control is |1>\"*, \n",
    "- or $target:=control\\oplus target$ , \n",
    "- or `if control { target := X @ target }`.\n",
    "\n",
    "Let us derive a matrix for CNOT. \n",
    "\n",
    "Truth table is:\n",
    "\n",
    "```\n",
    "c t | c T\n",
    "---------\n",
    "0 0 | 0 0\n",
    "0 1 | 0 1\n",
    "1 0 | 1 1   <---\n",
    "1 1 | 1 0   <---\n",
    "```"
   ]
  },
  {
   "cell_type": "code",
   "execution_count": null,
   "id": "7852cd1c-230d-4b42-96c5-435669f1a734",
   "metadata": {},
   "outputs": [],
   "source": [
    "import numpy as np\n",
    "\n",
    "ZERO = np.array([1., 0.]).T\n",
    "ONE = np.array([0., 1.]).T"
   ]
  },
  {
   "cell_type": "code",
   "execution_count": null,
   "id": "1a3d715c-2750-41a3-b396-80df9ea0340b",
   "metadata": {},
   "outputs": [],
   "source": [
    "CNOT = np.zeros((4, 4))\n",
    "\n",
    "# what's happening here?\n",
    "CNOT[:, 0b00] = np.kron(ZERO, ZERO)\n",
    "CNOT[:, 0b01] = np.kron(ZERO, ONE)\n",
    "CNOT[:, 0b10] = np.kron(ONE, ONE)\n",
    "CNOT[:, 0b11] = np.kron(ONE, ZERO)"
   ]
  },
  {
   "cell_type": "code",
   "execution_count": null,
   "id": "82666147-b8cb-4742-8c4c-d6ea20306515",
   "metadata": {},
   "outputs": [],
   "source": [
    "for ic, control in enumerate((ZERO, ONE)):\n",
    "    for it, target in enumerate((ZERO, ONE)):\n",
    "        system_state = np.kron(control, target)\n",
    "        print(f\"system |{ic}{it}>: {system_state.T} -> \", end=\"\")\n",
    "        new_state = CNOT @ system_state\n",
    "        print(new_state)"
   ]
  },
  {
   "cell_type": "code",
   "execution_count": null,
   "id": "8a5a6cd5-4413-4156-9349-e74c51e71e98",
   "metadata": {},
   "outputs": [],
   "source": [
    "print(CNOT)"
   ]
  },
  {
   "cell_type": "markdown",
   "id": "452306cd-c469-4d5e-82a2-6dde647d1058",
   "metadata": {},
   "source": [
    "# The most important question\n",
    "How CNOT acts, if control is in a superposition? This shed some light on the entanglement."
   ]
  },
  {
   "cell_type": "code",
   "execution_count": null,
   "id": "7868daa5-762d-4d3b-92b5-e867da71bdbf",
   "metadata": {},
   "outputs": [],
   "source": [
    "PLUS = (.5 ** .5) * (ZERO + ONE)\n",
    "MINUS = (.5 ** .5) * (ZERO - ONE)\n",
    "print(\"|+> =\", PLUS, \"; |-> =\", MINUS)"
   ]
  },
  {
   "cell_type": "code",
   "execution_count": null,
   "id": "626744ec-0343-4304-8599-064af4bf9337",
   "metadata": {},
   "outputs": [],
   "source": [
    "CNOT @ (np.kron(PLUS, ZERO))"
   ]
  },
  {
   "cell_type": "code",
   "execution_count": null,
   "id": "c3ff16ac-d9c0-4888-b984-3f51f69215b8",
   "metadata": {},
   "outputs": [],
   "source": [
    "CNOT @ (np.kron(MINUS, ZERO))"
   ]
  },
  {
   "cell_type": "code",
   "execution_count": null,
   "id": "41fd9a27-03c9-46ac-9fe5-eda48cc1245a",
   "metadata": {},
   "outputs": [],
   "source": [
    "for ic, control in enumerate((ZERO, ONE)):\n",
    "    for it, target in enumerate((ZERO, ONE)):\n",
    "        \n",
    "        # <CT| CNOT (|-> ⊗ |0>)\n",
    "        # or just <CT|CNOT|-0>\n",
    "        amplitude = np.kron(control, target).T.conj() @ CNOT @ (np.kron(MINUS, ZERO))\n",
    "        \n",
    "        # |<CT|CNOT|-0>|\n",
    "        magnitute = abs(amplitude)\n",
    "        \n",
    "        # |<CT|CNOT|-0>|^2\n",
    "        probability = magnitute ** 2\n",
    "        print(f\"P(|{ic}{it}>) = | <{ic}{it}|CNOT|-0> |^2 = {probability:.3f}\")"
   ]
  },
  {
   "cell_type": "code",
   "execution_count": null,
   "id": "7142a571-cfdc-4917-837e-fae5e6372677",
   "metadata": {},
   "outputs": [],
   "source": [
    "# this is how we measure. Note, that the value on the amplitude \n",
    "# correspond to a APRIORI probability, thus, <1.\n",
    "# APRIORI = P(CONIDITIONAL) * P(CONDITION)\n",
    "# P(CT) = P(C|T)*P(T)\n",
    "\n",
    "I_OTIMES_ONE = (np.kron(np.eye(2), ONE.reshape(2, 1)))\n",
    "I_OTIMES_ONE.T.conj() @ CNOT @ (np.kron(MINUS, ZERO))"
   ]
  },
  {
   "cell_type": "markdown",
   "id": "a6ed8a51-005a-4456-8b1b-6161729be404",
   "metadata": {},
   "source": [
    "# Can we write the same in qiskit?"
   ]
  },
  {
   "cell_type": "code",
   "execution_count": null,
   "id": "4878908b-eaee-4f05-af4f-442850d983bd",
   "metadata": {},
   "outputs": [],
   "source": [
    "from qiskit import BasicAer, execute, QuantumCircuit, QuantumRegister, ClassicalRegister\n",
    "from qiskit.quantum_info import Operator\n",
    "backend = BasicAer.get_backend(\"statevector_simulator\")"
   ]
  },
  {
   "cell_type": "code",
   "execution_count": null,
   "id": "10581b85-147b-4cb9-915f-cce5e81b5c8d",
   "metadata": {},
   "outputs": [],
   "source": [
    "control = QuantumRegister(1, \"control\")\n",
    "target = QuantumRegister(1, \"target\")\n",
    "control_bit = ClassicalRegister(1, \"control bit\")\n",
    "target_bit = ClassicalRegister(1, \"target bit\")\n",
    "\n",
    "qc = QuantumCircuit(target, control, target_bit, control_bit)\n",
    "\n",
    "# ok, this should be MINUS \\otimes ZERO\n",
    "qc.h(control)\n",
    "qc.z(control)\n",
    "display(qc.draw('mpl', scale=.5, reverse_bits=True))\n",
    "execute(qc, backend).result().get_statevector().real"
   ]
  },
  {
   "cell_type": "code",
   "execution_count": null,
   "id": "bb286419-ece2-4bb3-8192-da6be4a68d44",
   "metadata": {},
   "outputs": [],
   "source": [
    "op = qc.cx(control, target)\n",
    "display(qc.draw('mpl', scale=.5, reverse_bits=True))\n",
    "# qiskit has a reversed bit ordering\n",
    "# this is ok, but if you want to see matrices, which match with theory\n",
    "# you will have to agree, that CX is applied other way :)\n",
    "print(op[0].operation.to_matrix())"
   ]
  },
  {
   "cell_type": "code",
   "execution_count": null,
   "id": "b18fe440-3f2f-4b27-811c-22c1feb26a82",
   "metadata": {},
   "outputs": [],
   "source": [
    "execute(qc, backend).result().get_statevector().real"
   ]
  },
  {
   "cell_type": "code",
   "execution_count": null,
   "id": "6ba943da-c516-47eb-8375-843b712e77cf",
   "metadata": {},
   "outputs": [],
   "source": [
    "qc.measure(target, target_bit)\n",
    "display(qc.draw('mpl', scale=.5, reverse_bits=True))"
   ]
  },
  {
   "cell_type": "code",
   "execution_count": null,
   "id": "8b022b1e-df42-4619-b857-5e3357c7f685",
   "metadata": {},
   "outputs": [],
   "source": [
    "# probabilistic outcome, note, that control is not measured, thus bit = 0\n",
    "for i in range(10):\n",
    "    r = execute(qc, backend).result()\n",
    "    print(\"C =\", r.get_statevector().real, \" \\tT= \", r.get_counts())"
   ]
  },
  {
   "cell_type": "code",
   "execution_count": null,
   "id": "5ecf5c97-d5fa-4ea6-972d-508a864a321c",
   "metadata": {},
   "outputs": [],
   "source": [
    "qc.measure(control, control_bit)\n",
    "display(qc.draw('mpl', scale=.5, reverse_bits=True))"
   ]
  },
  {
   "cell_type": "code",
   "execution_count": null,
   "id": "041b531a-4bd2-4692-8be0-28189dcb4ed6",
   "metadata": {},
   "outputs": [],
   "source": [
    "# probabilistic outcome\n",
    "for i in range(10):\n",
    "    r = execute(qc, backend).result()\n",
    "    print(r.get_statevector().real, \"  \\t\", r.get_counts())"
   ]
  }
 ],
 "metadata": {
  "kernelspec": {
   "display_name": "Python 3 (ipykernel)",
   "language": "python",
   "name": "python3"
  },
  "language_info": {
   "codemirror_mode": {
    "name": "ipython",
    "version": 3
   },
   "file_extension": ".py",
   "mimetype": "text/x-python",
   "name": "python",
   "nbconvert_exporter": "python",
   "pygments_lexer": "ipython3",
   "version": "3.9.13"
  }
 },
 "nbformat": 4,
 "nbformat_minor": 5
}
