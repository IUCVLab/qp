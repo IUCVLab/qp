{
 "cells": [
  {
   "cell_type": "code",
   "execution_count": null,
   "id": "08779d1f-6441-45d6-87ca-532d2439e5b6",
   "metadata": {},
   "outputs": [],
   "source": [
    "# TEXT TEXT TEXT"
   ]
  }
 ],
 "metadata": {
  "kernelspec": {
   "display_name": "Python 3 (ipykernel)",
   "language": "python",
   "name": "python3"
  },
  "language_info": {
   "codemirror_mode": {
    "name": "ipython",
    "version": 3
   },
   "file_extension": ".py",
   "mimetype": "text/x-python",
   "name": "python",
   "nbconvert_exporter": "python",
   "pygments_lexer": "ipython3",
   "version": "3.9.13"
  }
 },
 "nbformat": 4,
 "nbformat_minor": 5
}
