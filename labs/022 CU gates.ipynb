{
 "cells": [
  {
   "cell_type": "markdown",
   "id": "e9adf553-4b78-49f3-b4cd-99099385ae5f",
   "metadata": {},
   "source": [
    "# Ok, how would you construct a gate you need?\n",
    "\n",
    "In many algorithms further you will need to impement a controlled gate $CU$, knowing $U$. This should be fast enough (you cannot to matrix transpilation for large matrices) to allow you real time circuit composition. Please pay attention that $U$ may be a multiqubit gate as well.\n",
    "\n",
    "Phrasing as a programmer, a $CU$ gate should DO something, if condinion is satisfied, and do NOTHING, if not. [Texbooks suggest](https://www.cambridge.org/highereducation/books/quantum-computation-and-quantum-information/01E10196D0A682A6AEFFEA52D53BE9AE#overview) (aslo this paper [has some on this topic](https://arxiv.org/pdf/quant-ph/0406176.pdf)) to seek the decomposition in this form:\n",
    "\n",
    "$\\begin{equation}\n",
    "    \\begin{cases}\n",
    "      A\\times B\\times C=I,\\\\\n",
    "      e^{i\\alpha}A\\times X\\times B\\times X\\times C = U\n",
    "    \\end{cases}\\\n",
    "\\end{equation}$\n",
    "\n",
    "or \n",
    "\n",
    "\n",
    "$\\begin{equation}\n",
    "    \\begin{cases}\n",
    "      A\\times B\\times C=I,\\\\\n",
    "      e^{i\\alpha}A\\times Z\\times B\\times Z\\times C = U\n",
    "    \\end{cases}\\\n",
    "\\end{equation}$\n",
    "\n",
    "Depending on your platform's basis gates (CX or CZ).\n",
    "\n",
    "**Discuss**: \n",
    "- Why this is a good way to think of the problem? \n",
    "- What might be the form of the solution circuit?\n",
    "- Do we care of $e^{i\\alpha}$?\n",
    "\n",
    "<details>\n",
    "    <summary>This is why!</summary>\n",
    "    <img src=\"data:image/png;base64,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\"/>\n",
    "</details>\n",
    "\n",
    "## Controlled gates IRL\n",
    "\n",
    "Let us construct a controlled $Y$ (guided) and $RXX(\\frac{\\pi}{2})$ (yourself).\n",
    "\n",
    "### CY\n",
    "\n",
    "Let us stick to the fact, that rotation gates may always satisfy one of the equations above with 3 matrices: $I, \\sqrt{U}^\\dagger, \\sqrt{U}$. $Y$ is a rotation gate, what is $\\sqrt{Y}$?\n",
    "\n",
    "$\\ R_y\\left ( \\theta  \\right ) = (i) \\begin{pmatrix} \\cos \\left ( \\frac{\\theta}{2} \\right )  & - \\sin \\left ( \\frac{\\theta}{2} \\right) \\\\ \\sin \\left ( \\frac{\\theta}{2} \\right) & \\cos \\left ( \\frac{\\theta}{2} \\right ) \\end{pmatrix}$\n",
    "\n",
    "$\\ R_y\\left ( \\pi  \\right ) = (i) \\begin{pmatrix} \\cos \\left ( \\frac{\\pi}{2} \\right )  & - \\sin \\left ( \\frac{\\pi}{2} \\right) \\\\ \\sin \\left ( \\frac{\\pi}{2} \\right) & \\cos \\left ( \\frac{\\pi}{2} \\right ) \\end{pmatrix} = (i) \\begin{pmatrix} 0  & -1 \\\\ 1 & 0 \\end{pmatrix}$"
   ]
  },
  {
   "cell_type": "code",
   "execution_count": null,
   "id": "4545d827-88af-4fba-98fe-71273e153298",
   "metadata": {},
   "outputs": [],
   "source": [
    "from scipy.linalg import sqrtm\n",
    "import numpy as np\n",
    "\n",
    "I = np.eye(2)\n",
    "X = np.array([\n",
    "    [0, 1], \n",
    "    [1, 0]\n",
    "])\n",
    "Y = np.array([\n",
    "    [0., -1.],\n",
    "    [1.,  0.]\n",
    "]) * 1j\n",
    "Y2 = sqrtm(Y)\n",
    "Y2_dagger = Y2.T.conj() # np.linalg.inv(Y2)\n",
    "Y2"
   ]
  },
  {
   "cell_type": "markdown",
   "id": "da636214-9c42-452b-b9ac-ee0554438062",
   "metadata": {},
   "source": [
    "## Let us validate the second line of the system of equations"
   ]
  },
  {
   "cell_type": "code",
   "execution_count": null,
   "id": "4168d78b-02d9-4dd7-8212-d3cf5881b8b8",
   "metadata": {},
   "outputs": [],
   "source": [
    "# U = p * A * X * B         * X * C\n",
    "U =       I @ X @ Y2_dagger @ X @ Y2\n",
    "# what is the global phase component we miss here?\n",
    "print(U.round(3))\n",
    "assert np.allclose(1j * U, Y)"
   ]
  },
  {
   "cell_type": "code",
   "execution_count": null,
   "id": "63857ad9-003b-4ff0-af53-d2e448e58803",
   "metadata": {},
   "outputs": [],
   "source": [
    "from qiskit import QuantumCircuit, execute, BasicAer\n",
    "\n",
    "qc = QuantumCircuit(2, name=\"CY\")\n",
    "\n",
    "qc.unitary(Y2, 1, label=\"$\\sqrt{Y}$\")\n",
    "# ... todo ...\n",
    "qc.draw('mpl')"
   ]
  },
  {
   "cell_type": "code",
   "execution_count": null,
   "id": "fca5c400-3b51-4cb2-8f75-425c20573d07",
   "metadata": {},
   "outputs": [],
   "source": [
    "qc2 = QuantumCircuit(2)\n",
    "qc2.h(0)\n",
    "qc2.ry(np.pi / 4, 1)\n",
    "vec = execute(qc2, BasicAer.get_backend('statevector_simulator')).result().get_statevector().round(3)\n",
    "print(vec)\n",
    "qc2.draw('mpl')"
   ]
  },
  {
   "cell_type": "code",
   "execution_count": null,
   "id": "e0812c0e-4e8a-4186-aecd-6b3825aa1cb5",
   "metadata": {},
   "outputs": [],
   "source": [
    "qc2.append(qc, [0, 1])\n",
    "qc2.draw('mpl')"
   ]
  },
  {
   "cell_type": "code",
   "execution_count": null,
   "id": "2fe381b0-7cfc-4b3e-af72-de8bcbcad75b",
   "metadata": {},
   "outputs": [],
   "source": [
    "vec = execute(qc2, BasicAer.get_backend('statevector_simulator')).result().get_statevector().round(3)\n",
    "print(vec)"
   ]
  },
  {
   "cell_type": "code",
   "execution_count": null,
   "id": "d67c1fd1-ab5e-4891-be77-7cb478097bd5",
   "metadata": {},
   "outputs": [],
   "source": [
    "qc3 = QuantumCircuit(2)\n",
    "qc3.h(0)\n",
    "qc3.ry(np.pi / 4, 1)\n",
    "qc3.cy(0, 1)\n",
    "qc3.draw('mpl')"
   ]
  },
  {
   "cell_type": "code",
   "execution_count": null,
   "id": "21bd04cc-ddce-4c6f-8b45-c5827102884c",
   "metadata": {},
   "outputs": [],
   "source": [
    "vec = execute(qc3, BasicAer.get_backend('statevector_simulator')).result().get_statevector().round(3)\n",
    "print(vec)"
   ]
  },
  {
   "cell_type": "code",
   "execution_count": null,
   "id": "dbacaea4-10a0-4237-b484-5d409c2a82b3",
   "metadata": {},
   "outputs": [],
   "source": [
    "qc3.decompose().draw()"
   ]
  },
  {
   "cell_type": "markdown",
   "id": "e35c0364-0cbd-4e90-904a-60bb9ca0e8cd",
   "metadata": {},
   "source": [
    "## ADVANCED: use qiskit to construct and analyse CRXX gate"
   ]
  },
  {
   "cell_type": "code",
   "execution_count": null,
   "id": "b60eb747-ce12-4f42-bd4c-5831d013bd6c",
   "metadata": {},
   "outputs": [],
   "source": [
    "from qiskit.quantum_info import Operator\n",
    "\n",
    "RXX = .5 ** .5 * (np.eye(4) + 1j * np.fliplr(np.eye(4)))\n",
    "control_rxx = ...\n",
    "# or \n",
    "control_rxx = ..."
   ]
  },
  {
   "cell_type": "code",
   "execution_count": null,
   "id": "abd9a77c-0ca3-4ac3-8861-80d49f6b1eee",
   "metadata": {},
   "outputs": [],
   "source": [
    "from qiskit import transpile\n",
    "qc = QuantumCircuit(3)\n",
    "\n",
    "..."
   ]
  }
 ],
 "metadata": {
  "kernelspec": {
   "display_name": "Python 3 (ipykernel)",
   "language": "python",
   "name": "python3"
  },
  "language_info": {
   "codemirror_mode": {
    "name": "ipython",
    "version": 3
   },
   "file_extension": ".py",
   "mimetype": "text/x-python",
   "name": "python",
   "nbconvert_exporter": "python",
   "pygments_lexer": "ipython3",
   "version": "3.9.13"
  }
 },
 "nbformat": 4,
 "nbformat_minor": 5
}
