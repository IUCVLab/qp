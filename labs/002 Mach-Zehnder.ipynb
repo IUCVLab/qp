{
 "cells": [
  {
   "cell_type": "code",
   "execution_count": null,
   "id": "19cafaa1-1266-4552-8872-7131c1263682",
   "metadata": {},
   "outputs": [],
   "source": [
    "from qiskit import QuantumCircuit, BasicAer, execute\n",
    "from qiskit.quantum_info.states import Statevector\n",
    "from qiskit.visualization import plot_histogram\n",
    "from qiskit.tools.monitor import job_monitor"
   ]
  },
  {
   "cell_type": "markdown",
   "id": "1fdc84d1-c154-4cf7-99e6-7534ff6e941b",
   "metadata": {},
   "source": [
    "# Simulating Mach-Zehnder\n",
    "\n",
    "We will explore the experiment here: https://lab.quantumflytrap.com/lab/mach-zehnder "
   ]
  },
  {
   "cell_type": "code",
   "execution_count": null,
   "id": "bfe10f31-0c41-4134-ac41-44be892d52d2",
   "metadata": {},
   "outputs": [],
   "source": [
    "from IPython.display import YouTubeVideo\n",
    "YouTubeVideo('RRi4dv9KgCg?start=188', width=800, height=480)"
   ]
  },
  {
   "cell_type": "markdown",
   "id": "94843fe3-40ee-4466-a53c-6f7be2e202b7",
   "metadata": {},
   "source": [
    "## We need a simulator of a quantum computer\n",
    "Let's take the most simple, which is doing matrix multiplication of a statevector."
   ]
  },
  {
   "cell_type": "code",
   "execution_count": null,
   "id": "55bca75a-ad06-41be-8276-b326b6778a81",
   "metadata": {},
   "outputs": [],
   "source": [
    "simulator = BasicAer.get_backend(\"statevector_simulator\")"
   ]
  },
  {
   "cell_type": "markdown",
   "id": "728d816d-1738-470a-b8ee-4a4719bd6094",
   "metadata": {},
   "source": [
    "### This is the \"clean\" 1-qubit circuit:"
   ]
  },
  {
   "cell_type": "code",
   "execution_count": null,
   "id": "445f2e94-837c-4431-8100-9fd5af698cf3",
   "metadata": {},
   "outputs": [],
   "source": [
    "circuit = QuantumCircuit(1) # 1 qubit\n",
    "circuit.draw()  # text version"
   ]
  },
  {
   "cell_type": "code",
   "execution_count": null,
   "id": "47608d0e-0873-496f-a8bb-1476147a80c7",
   "metadata": {},
   "outputs": [],
   "source": [
    "circuit.draw('mpl')  # matplotlib version, may require pylatexenc"
   ]
  },
  {
   "cell_type": "markdown",
   "id": "ca2af1b2-1393-410e-aa08-74ac47886574",
   "metadata": {},
   "source": [
    "### Ok what is the result?"
   ]
  },
  {
   "cell_type": "code",
   "execution_count": null,
   "id": "bad82e9a-f798-437e-8cb8-a0b5056cb480",
   "metadata": {},
   "outputs": [],
   "source": [
    "def simulate_and_show(circuit):\n",
    "    \n",
    "    display(circuit.draw('mpl'))         # draw a circuit\n",
    "    job = execute(circuit, simulator)    # obtain the job. local jobs are executed synchronously\n",
    "    sv = job.result().get_statevector()  # what is the resulting statevector?\n",
    "    print(sv)\n",
    "    statevector = Statevector(sv)        # how will it look on a Bloch sphere?\n",
    "    display(statevector.draw(output='bloch'))"
   ]
  },
  {
   "cell_type": "markdown",
   "id": "61ee0be5-50ae-41ff-bc24-4ab844c3a39f",
   "metadata": {},
   "source": [
    "### The photon goes $\\rightarrow$"
   ]
  },
  {
   "cell_type": "code",
   "execution_count": null,
   "id": "abc94402-d419-4a6d-afe8-5bcb39a6bb14",
   "metadata": {},
   "outputs": [],
   "source": [
    "simulate_and_show(circuit)"
   ]
  },
  {
   "cell_type": "markdown",
   "id": "62b43841-3f7d-49dc-9562-ca642709e0c4",
   "metadata": {},
   "source": [
    "### The photon meets beam-splitter: $\\frac{1}{\\sqrt{2}}(\\rightarrow+\\downarrow)$"
   ]
  },
  {
   "cell_type": "code",
   "execution_count": null,
   "id": "16b3400d-f055-465b-8cdb-f84e1fca2a07",
   "metadata": {},
   "outputs": [],
   "source": [
    "circuit.h(0)\n",
    "simulate_and_show(circuit)"
   ]
  },
  {
   "cell_type": "markdown",
   "id": "6b39c082-9554-4c68-9643-18291a57e152",
   "metadata": {},
   "source": [
    "### The photon reflects at the mirror $\\frac{1}{\\sqrt{2}}(\\downarrow+\\rightarrow)$\n",
    "\n",
    "$|+\\rangle=\\frac{1}{\\sqrt{2}}(|0\\rangle+|1\\rangle) \\xrightarrow{mirrors} \\frac{1}{\\sqrt{2}}(X|0\\rangle+X|1\\rangle)=X\\frac{1}{\\sqrt{2}}(|0\\rangle+|1\\rangle)=X|+\\rangle= ...$"
   ]
  },
  {
   "cell_type": "code",
   "execution_count": null,
   "id": "082bccf3-86ef-4804-b305-1e13a6d1ec0d",
   "metadata": {},
   "outputs": [],
   "source": [
    "circuit.x(0)\n",
    "simulate_and_show(circuit)"
   ]
  },
  {
   "cell_type": "markdown",
   "id": "795d408a-fd8a-4736-8b46-46a1ac479885",
   "metadata": {},
   "source": [
    "### The photon meets beam-splitter AGAIN"
   ]
  },
  {
   "cell_type": "code",
   "execution_count": null,
   "id": "c66d8874-cd64-4559-896a-6f384817d91a",
   "metadata": {},
   "outputs": [],
   "source": [
    "# TODO: what if we comment this out?\n",
    "circuit.h(0)\n",
    "simulate_and_show(circuit)"
   ]
  },
  {
   "cell_type": "code",
   "execution_count": null,
   "id": "65aa9751-5d52-4ba4-b0c2-753e7d7623f8",
   "metadata": {},
   "outputs": [],
   "source": [
    "circuit.measure_all()\n",
    "simulate_and_show(circuit)"
   ]
  },
  {
   "cell_type": "code",
   "execution_count": null,
   "id": "49f35861-7f18-404d-b393-3f5bb72f7288",
   "metadata": {},
   "outputs": [],
   "source": [
    "another_simulator = BasicAer.get_backend(\"qasm_simulator\")\n",
    "counts = execute(circuit, another_simulator, shots=1000).result().get_counts()\n",
    "print(counts)\n",
    "plot_histogram(counts)"
   ]
  },
  {
   "cell_type": "markdown",
   "id": "5430936e-d958-4e1e-ad61-b0b2a458b4c7",
   "metadata": {},
   "source": [
    "# Let us try this on a quantum computer!"
   ]
  },
  {
   "cell_type": "code",
   "execution_count": null,
   "id": "de0ee292-003b-4680-b570-5b6899ea2cef",
   "metadata": {},
   "outputs": [],
   "source": [
    "from qiskit import IBMQ\n",
    "\n",
    "IBMQ.save_account(open(\"../token.ibm\").read())\n",
    "IBMQ.load_account()\n",
    "provider = IBMQ.get_provider('ibm-q')\n",
    "\n",
    "available_cloud_backends = provider.backends() \n",
    "for backend in available_cloud_backends:\n",
    "    status = backend.status()\n",
    "    is_operational = status.operational\n",
    "    jobs_in_queue = status.pending_jobs\n",
    "    print(f\"{backend.name().ljust(30, ' ')} is online={is_operational}\\twith a queue={jobs_in_queue}\")"
   ]
  },
  {
   "cell_type": "code",
   "execution_count": null,
   "id": "335bb367-ae72-499e-8aed-77b586190cda",
   "metadata": {},
   "outputs": [],
   "source": [
    "%%timeit\n",
    "qpu = provider.get_backend(\"ibmq_lima\")\n",
    "\n",
    "job = execute(circuit, qpu, shots=100)\n",
    "job_monitor(job)"
   ]
  },
  {
   "cell_type": "code",
   "execution_count": null,
   "id": "e14d6732-d14c-443e-b369-aec8acdce486",
   "metadata": {},
   "outputs": [],
   "source": [
    "counts = job.result().get_counts()\n",
    "plot_histogram(counts)"
   ]
  }
 ],
 "metadata": {
  "kernelspec": {
   "display_name": "Python 3 (ipykernel)",
   "language": "python",
   "name": "python3"
  },
  "language_info": {
   "codemirror_mode": {
    "name": "ipython",
    "version": 3
   },
   "file_extension": ".py",
   "mimetype": "text/x-python",
   "name": "python",
   "nbconvert_exporter": "python",
   "pygments_lexer": "ipython3",
   "version": "3.9.7"
  }
 },
 "nbformat": 4,
 "nbformat_minor": 5
}
