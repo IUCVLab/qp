{
 "cells": [
  {
   "cell_type": "code",
   "execution_count": null,
   "id": "420d0e7f-b542-41ef-b58e-a1f2971ec018",
   "metadata": {},
   "outputs": [],
   "source": [
    "# your name is here"
   ]
  },
  {
   "cell_type": "markdown",
   "id": "d7e8ab8a-2115-476e-b3bf-8cbfc66b12cd",
   "metadata": {},
   "source": [
    "# The statement is very simple\n",
    "\n",
    "Solve the following system of linear equations using quantum computing:\n",
    "\n",
    "$\\begin{cases}\n",
    "      -3x + y = -3 \\\\\n",
    "      x - 3y = 0\n",
    "    \\end{cases}$\n",
    "    \n",
    "How you may succeed?\n",
    "- HHL: benefit from the [last year lab](./../../labs/160%20HHL%20(Harrow%2C%20Hassidim%2C%20Lloyd).ipynb), which is dedicated to the HHL algorithm and solves a similar problem.\n",
    "  - [Qiskit example](https://qiskit.org/documentation/stable/0.35/stubs/qiskit.algorithms.linear_solvers.HHL.html#qiskit.algorithms.linear_solvers.HHL).\n",
    "  - [2021 explanation with the whiteboard](https://www.youtube.com/watch?v=JOxgrZUo1-M&list=PLneu1tELBieKXXurjHqtMsb2pee2evJvk&index=12). It starts with QPE, which is also important.\n",
    "- benefit from [this blogpost with explanation of the HHL algorithm](https://medium.com/mit-6-s089-intro-to-quantum-computing/hhl-solving-linear-systems-of-equations-with-quantum-computing-efb07eb32f74).\n",
    "- Pennylane-based:\n",
    "  - ($*$) use the [variational method](https://pennylane.ai/qml/demos/tutorial_vqls/).\n",
    "  - ($**$) [power of QSVT](https://pennylane.ai/qml/demos/tutorial_apply_qsvt/).\n",
    "  \n",
    "Use any of these methods, or any other which you know to find $x$ and $y$ values. Your solution **is NOT necessarily long and complicated**; it should solve the problem with a quantum computer, or with the combination of CPU and QPU.\n",
    "\n",
    "**Mandatory condition**: report your solution complexity in circuit width, depth, and CNOT-count for a $\\{CNOT, RZ, RX, measureZ\\}$ basis gate set."
   ]
  },
  {
   "cell_type": "code",
   "execution_count": null,
   "id": "8b3b77e5-1514-4e8a-9415-5f94e95ec53c",
   "metadata": {},
   "outputs": [],
   "source": [
    "# your code and evidences are here. "
   ]
  }
 ],
 "metadata": {
  "kernelspec": {
   "display_name": "Python 3 (ipykernel)",
   "language": "python",
   "name": "python3"
  },
  "language_info": {
   "codemirror_mode": {
    "name": "ipython",
    "version": 3
   },
   "file_extension": ".py",
   "mimetype": "text/x-python",
   "name": "python",
   "nbconvert_exporter": "python",
   "pygments_lexer": "ipython3",
   "version": "3.9.13"
  }
 },
 "nbformat": 4,
 "nbformat_minor": 5
}
