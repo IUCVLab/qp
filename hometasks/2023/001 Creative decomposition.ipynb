{
 "cells": [
  {
   "cell_type": "code",
   "execution_count": 1,
   "id": "f1afd07c-36ec-4d39-a6c1-4f9d16ce9417",
   "metadata": {},
   "outputs": [],
   "source": [
    "# your name here"
   ]
  },
  {
   "cell_type": "markdown",
   "id": "a36aaadc-4074-4bbc-ba08-8a6faa8b80d7",
   "metadata": {},
   "source": [
    "Trapped ion computers does not have native implementation of CNOT and H gate. So, researchers have to come up with a *decompositions* for these gate. They search for a sequence of gates, which is equivalent to those.\n",
    "\n",
    "Your task is to derive a decomposition given an *existing* entangling gate (let us call this $Q$) and allowed 1 qubit gates: $RX(\\theta), RZ(\\phi)$."
   ]
  },
  {
   "cell_type": "code",
   "execution_count": 2,
   "id": "28f68e9a-319e-43f3-98d9-f1f2cdb9485d",
   "metadata": {},
   "outputs": [
    {
     "name": "stdout",
     "output_type": "stream",
     "text": [
      "This is your Q:\n",
      "[[0.707+0.j    0.   +0.j    0.   +0.j    0.   -0.707j]\n",
      " [0.   +0.j    0.707+0.j    0.   -0.707j 0.   +0.j   ]\n",
      " [0.   +0.j    0.   -0.707j 0.707+0.j    0.   +0.j   ]\n",
      " [0.   -0.707j 0.   +0.j    0.   +0.j    0.707+0.j   ]]\n"
     ]
    }
   ],
   "source": [
    "import numpy as np\n",
    "from math import cos, sin, e, pi\n",
    "\n",
    "ZERO = np.array([1., 0.]).T\n",
    "ONE = np.array([0., 1.]).T\n",
    "\n",
    "\n",
    "def RX(theta):\n",
    "    return np.array([\n",
    "        [np.cos(theta), -1j * np.sin(theta)],\n",
    "        [-1j * np.sin(theta), np.cos(theta)],        \n",
    "    ])\n",
    "\n",
    "\n",
    "def RZ(phi):\n",
    "    return np.array([\n",
    "        [1., 0.],\n",
    "        [0., e ** (1j * phi)],        \n",
    "    ])\n",
    "\n",
    "\n",
    "def x(a, b):\n",
    "    return np.kron(a, b)\n",
    "\n",
    "I = np.eye(2)\n",
    "II = np.eye(4)\n",
    "\n",
    "Q = .5 ** .5 * (np.fliplr(np.eye(4)) * -1j + np.eye(4))\n",
    "\n",
    "# check Q is unitary\n",
    "assert np.allclose(Q.T.conj() @ Q, II)\n",
    "\n",
    "print(\"This is your Q:\")\n",
    "print(Q.round(3))"
   ]
  },
  {
   "cell_type": "code",
   "execution_count": 3,
   "id": "999fd28a-fab2-481f-b4ed-977634867eac",
   "metadata": {},
   "outputs": [
    {
     "name": "stdout",
     "output_type": "stream",
     "text": [
      "[0.7+0.j  0. +0.j  0. +0.j  0. -0.7j]\n"
     ]
    }
   ],
   "source": [
    "# And yes, it entangles!\n",
    "print((Q @ (np.kron(ZERO, ZERO))).round(1))"
   ]
  },
  {
   "cell_type": "markdown",
   "id": "ba9a1d33-f73b-44e4-b0c2-2d80c1cbc62c",
   "metadata": {},
   "source": [
    "# TASK\n",
    "\n",
    "Your task is to find a correct decomposition of $CNOT$ into $Q, RX, RY$. Decomposition is a 2-qubit circuit, or, equivalently, a sequence of matrix and tensor multiplications. Justify your finding in a free form and present an equivalent 2-qubit quantum circuit.\n",
    "\n",
    "Below there is a list of hints:\n",
    "\n",
    "1. All the gates involved in solution a unitary, thus $X^\\dagger=X^{-1}$.\n",
    "2. $CNOT$ matrix is self-inverse (but $Q$ is not): $CNOT^\\dagger CNOT = CNOT^2=I$\n",
    "3. Make use of [operators](https://qiskit.org/documentation/tutorials/circuits_advanced/02_operators_overview.html) (which may add an arbitrary matrix to the circuit), `QuantumCircuit.unitary(mx, qubits)` call, and a [transpiler](https://qiskit.org/documentation/apidoc/compiler.html#qiskit.compiler.transpile) to get any circuit in a native gate set.\n",
    "4. What if you solve an inverse problem: find $Q$ given $CNOT$?\n",
    "5. If you search a tensor decomposition $C = A\\otimes B$, then $C[:2, :2] = \\alpha B$\n",
    "6. You expect to find a solution in a form: $CNOT = (A\\otimes B)\\times Q\\times(C\\otimes D)$, where $A, B, C, D$ are some *non-basis* unitaries (may require additional decomposition)."
   ]
  },
  {
   "cell_type": "code",
   "execution_count": 4,
   "id": "4435d6c9-1b6b-45c6-a955-06be46063ec8",
   "metadata": {},
   "outputs": [],
   "source": [
    "# your justification and method is here"
   ]
  },
  {
   "cell_type": "code",
   "execution_count": 5,
   "id": "27e12e85-7b4b-44ab-a110-9cb6ca29605b",
   "metadata": {},
   "outputs": [],
   "source": [
    "# your equivalent quantum circuit is here"
   ]
  }
 ],
 "metadata": {
  "kernelspec": {
   "display_name": "Python 3 (ipykernel)",
   "language": "python",
   "name": "python3"
  },
  "language_info": {
   "codemirror_mode": {
    "name": "ipython",
    "version": 3
   },
   "file_extension": ".py",
   "mimetype": "text/x-python",
   "name": "python",
   "nbconvert_exporter": "python",
   "pygments_lexer": "ipython3",
   "version": "3.9.7"
  }
 },
 "nbformat": 4,
 "nbformat_minor": 5
}
