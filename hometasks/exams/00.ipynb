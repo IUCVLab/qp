{
 "cells": [
  {
   "cell_type": "markdown",
   "id": "ebbc95fe-4d76-48ee-ae2e-0e285e415f3a",
   "metadata": {},
   "source": [
    "9 points in total. Get 6 to pass. get 8 or 9 to get A.\n",
    "\n",
    "\n",
    "# Problem 1. Teleport a W state"
   ]
  },
  {
   "cell_type": "code",
   "execution_count": null,
   "id": "b505e6fa-7d29-4d79-b542-0a1ae3002b6d",
   "metadata": {},
   "outputs": [],
   "source": [
    "from qiskit import QuantumCircuit, QuantumRegister, ClassicalRegister, execute, BasicAer\n",
    "\n",
    "alice = QuantumRegister(3, 'alice')\n",
    "media = QuantumRegister(3, 'media')\n",
    "bob = QuantumRegister(3, 'bob')\n",
    "result = ClassicalRegister(3, 'result')\n",
    "garbage = ClassicalRegister(6, 'gc')\n",
    "\n",
    "qc = QuantumCircuit(alice, media, bob, result, garbage)"
   ]
  },
  {
   "cell_type": "markdown",
   "id": "7d703cee-6520-43a2-8e2a-e069f54940b0",
   "metadata": {},
   "source": [
    "## [1] Initialize `alice` register in [W state](https://en.wikipedia.org/wiki/W_state)"
   ]
  },
  {
   "cell_type": "code",
   "execution_count": null,
   "id": "6fbb0030-530d-4d39-b25a-e9bc308c77c9",
   "metadata": {},
   "outputs": [],
   "source": [
    "# TODO your code here"
   ]
  },
  {
   "cell_type": "code",
   "execution_count": null,
   "id": "151e19c0-4fc3-46c5-81a1-4795083766d8",
   "metadata": {},
   "outputs": [],
   "source": [
    "qc.barrier()\n",
    "qc.draw('mpl', scale=.7)"
   ]
  },
  {
   "cell_type": "markdown",
   "id": "8973e014-9d5a-4293-afa6-5533d3d34f53",
   "metadata": {},
   "source": [
    "### Show that this is really W state"
   ]
  },
  {
   "cell_type": "code",
   "execution_count": null,
   "id": "b51cf763-caa3-4836-ad1f-7a84ba9c533b",
   "metadata": {},
   "outputs": [],
   "source": [
    "import numpy as np\n",
    "np.round(\n",
    "    execute(\n",
    "        qc, \n",
    "        BasicAer.get_backend('statevector_simulator')\n",
    "    ).result().get_statevector()[:8].real,\n",
    "    3)"
   ]
  },
  {
   "cell_type": "markdown",
   "id": "66e5259e-e03f-4016-90fa-23511131f95d",
   "metadata": {},
   "source": [
    "## [2] Entangle `media` with `bob`, and then \"pass\" the message from `alice` to `media`\n",
    "\n",
    "Do it according to the algorithm."
   ]
  },
  {
   "cell_type": "code",
   "execution_count": null,
   "id": "45028044-e0cf-4229-86b3-dd9f7935a3d2",
   "metadata": {},
   "outputs": [],
   "source": [
    "# TODO your code here"
   ]
  },
  {
   "cell_type": "code",
   "execution_count": null,
   "id": "56f12dcc-2caa-4699-af3e-ab41ffb4e0a3",
   "metadata": {},
   "outputs": [],
   "source": [
    "qc.barrier()\n",
    "qc.draw('mpl', scale=.7)"
   ]
  },
  {
   "cell_type": "markdown",
   "id": "5bd0ea15-40dd-4808-b92f-3f564eab9f64",
   "metadata": {},
   "source": [
    "## [3] Measure, apply conditional gates, simulate with qasm_simulator, and plot the histogram which shows that Bob got the message"
   ]
  },
  {
   "cell_type": "code",
   "execution_count": null,
   "id": "d17f7629-4bb0-4bb5-9bab-fbdb1ad241f4",
   "metadata": {},
   "outputs": [],
   "source": [
    "# TODO your code here \n",
    "display(qc.draw('mpl', scale=.7))\n",
    "\n",
    "counts = # TODO simulation is here\n",
    "\n",
    "from collections import Counter\n",
    "from qiskit.visualization import plot_histogram\n",
    "\n",
    "# TODO histogram code here"
   ]
  },
  {
   "cell_type": "markdown",
   "id": "c98a4f34-951f-41bd-bfeb-3f8a654569e3",
   "metadata": {},
   "source": [
    "# Problem 2. \n",
    "\n",
    "## [3] Prove \n",
    "\n",
    "Prove on paper (or in LaTeX) the following statement:\n",
    "\n",
    "$\\large (I\\otimes Z) \\times CNOT(0, 1)\\times(H\\otimes I)\\times|00\\rangle = \\frac{1}{\\sqrt{2}}(|00\\rangle - |11\\rangle)$\n",
    "\n",
    "\n",
    "Use matrices or vector evolution.\n"
   ]
  }
 ],
 "metadata": {
  "kernelspec": {
   "display_name": "qiskit",
   "language": "python",
   "name": "qiskit"
  },
  "language_info": {
   "codemirror_mode": {
    "name": "ipython",
    "version": 3
   },
   "file_extension": ".py",
   "mimetype": "text/x-python",
   "name": "python",
   "nbconvert_exporter": "python",
   "pygments_lexer": "ipython3",
   "version": "3.9.7"
  }
 },
 "nbformat": 4,
 "nbformat_minor": 5
}
